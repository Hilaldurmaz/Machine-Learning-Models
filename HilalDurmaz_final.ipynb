{
  "nbformat": 4,
  "nbformat_minor": 0,
  "metadata": {
    "accelerator": "GPU",
    "colab": {
      "name": "HilalDurmaz.ipynb",
      "provenance": [],
      "collapsed_sections": []
    },
    "kernelspec": {
      "display_name": "Python 3",
      "language": "python",
      "name": "python3"
    },
    "language_info": {
      "codemirror_mode": {
        "name": "ipython",
        "version": 3
      },
      "file_extension": ".py",
      "mimetype": "text/x-python",
      "name": "python",
      "nbconvert_exporter": "python",
      "pygments_lexer": "ipython3",
      "version": "3.7.6"
    }
  },
  "cells": [
    {
      "cell_type": "markdown",
      "metadata": {
        "id": "ZMctHSMzHKMC"
      },
      "source": [
        "# DA514 Final\n",
        "## 04.04.2021\n",
        "\n",
        "### SUCourse'a yüklemeden önce dosya ismini aşağıdaki gibi değiştirmeyi unutmayın:\n",
        "\n",
        "e.g. **IsimSoyad.ipynb**"
      ]
    },
    {
      "cell_type": "code",
      "metadata": {
        "id": "w6-7ZE_vHKMR"
      },
      "source": [
        "# I have neither received nor given any help from/to anybody during the course of this exam.  \n",
        "\n",
        "# Sign by writing your name here: "
      ],
      "execution_count": null,
      "outputs": []
    },
    {
      "cell_type": "markdown",
      "metadata": {
        "id": "yoOJyg1uHKMT"
      },
      "source": [
        "## Araç Sigortası Satış Tahmin Problemi\n",
        "Araç sahiplerinin araç sigortası satın almak konusundaki niyetlerinin tespiti sigorta şirketleri için büyük önem taşır. Doğru tahminler sigorta şirketleri için bir iletişim stratejisi planlayarak potansiyel müşterilere ulaşma, iş modellerini ve gelirlerini optmize etme fırsatı yaratır.   \n",
        "\n",
        "Müşterilerine sağlık sigortası sağlayan bir sigorta şirketi bir önceki yılın poliçe sahiplerine araç sigortası satmayı planlamaktadır. Müşterilerin araç sigortası ile ilgilenip ilgilenmediklerini tahmin amacıyla kullanılacak şirket verisi müşterinin demografik bilgilerini (yaş, cinsiyet, bulunduğu il vb), araç özelliklerini (yaş ve hasar durumu) ve poliçe bilgilerini (prim ve kanal bilgileri) içermektedir. \n",
        "\n",
        "Aşağıdaki tablo veri setinde kullanılan öznitelikleri (features) ve açıklamalarını içermektedir.\n",
        "\n",
        "|Öznitelik|Açıklama|\n",
        "|---------|--------|\n",
        "|Musteri_no|Anonim müşteri no|\n",
        "|Cinsiyet|Müşteri cinsiyeti (E/K)|\n",
        "|Yas|Müşteri doğum yılı|\n",
        "|Ehliyet|Müşteri ehliyet durumu (Var/Yok)|\n",
        "|Sehir|Müşterinin bulunduğu il|\n",
        "|Gecmis_police|Müşterinin halihazırda araç sigortası var mı? (Var/Yok)|\n",
        "|Arac_yasi|Aracın yaşı (<1 Yıl, 1-2 Yıl, 2-5 Yıl, 5-10 Yıl, >10 Yıl)|\n",
        "|Hasar_durumu|Müşteri aracında geçmişte hasar oluştu mu? (E/H)|\n",
        "|Yillik_prm|Yıllık prim bedeli|\n",
        "|Acenta_no|Satış sorumlusu kod numarası (anonim)|\n",
        "|Sure|Sigortalı (sağlık sigortası) olma süresi (gün)|\n",
        "|Sonuc|Müşteri isteği (hedef): ilgileniyor (1), ilgilenmiyor (0)|\n",
        "\n",
        "\n",
        "### Sizlerden beklenenler:\n",
        "1. Veriyi ve problemi anlamak üzere hem bağımlı (hedef) hem de bağımsız değişkenler üzerinde bir Keşifsel Veri Analizi  (EDA) yapmanız ve bunları yorumlamanız beklenmektedir. Yorumsuz bırakılan grafikler/plotlar bir anlam taşımadığı gibi değerlendirmeye de alınmayacaktır. Notebook üzerindeki tüm çalışmaların doğru başlıklarla okunabilir ve anlaşılabilir olmasına ve bir düzen içinde sunulmuş olmasına  azami dikkat göstermenizi rica ediyoruz. Bu bölümün notlandırması burada sözü edilen kriterlere dayanacak ve 40 (100 üzerinden) puanlık bir ağırlık taşıyacaktır. \n",
        "\n",
        "\n",
        "2. En iyi performans gösteren modelin \"test\" verisi üzerindeki tahminlerini `.csv` dosyası olarak oluşturmanız ve Kaggle'a yüklemeniz gerekmektedir. Kaggle üzerindeki toplam (private + public) skorunuza stinaden bu bölümün ağırlığı 60 (100 üzerinden) puan olarak belirlenmiştir. 60 puan Kaggle'daki sıralamanıza göre doğrusal bir formülle normalize edilcektir.\n",
        "\n",
        "### Teslim edilmesi gerekenler\n",
        "Çözüm için kullandığınız notebook (**`IsimSoyad.ipynb`**, örnek: SaitOlmez.ipynb) ve Kaggle için kullandığınız tahmin dosyasını (**`IsimSoyad.csv`**) **SUCourse**'a yüklemeyi unutmayınız.\n",
        "\n",
        "### Veri dosyaları\n",
        "**1. `Arac_train.xlsx`** (254687 gözlem, 11 öznitelik, 1 hedef) : En iyi modelinizi seçmek için kullanacağınız eğitim verisi.\n",
        "\n",
        "**2. `Arac_test.xlsx`** (63672 gözlem, 11 öznitelik) : Test verisinde `Sonuc` kolonu bulunmadığına dikkat ediniz. Bu dosya eğitim verisini kullanarak seçtiğiniz modelin tahminlerini oluşturarak sonuçları Kaggle sitesine yüklemek için kullanılacaktır.\n",
        "\n",
        "### Başarı metriği\n",
        "Bu hackathon için değerlendirme metriğiniz \"**ROC_AUC Score**\" olarak belirlenmiştir.\n",
        "\n",
        "### Notlar, uyarılar ve öneriler\n",
        "1. \"Train\" verisi üzerinde gerçekleştrilen her türlü \"pre-processing\" işlemini \"Test\" verisi üzerinde de uygulamayı unutmayın. \n",
        "2. Uygulanacak çözüm konusunda hiçbir kısıt bulunmamaktadır. Problemi Makine Öğrenmesi modellerinden herhangi biri ile çözmeyi deneyebilirsiniz. Kullanılacak yöntem ve denenecek teknikler konusunda esnek olmakta fayda bulunduğunu unutmayın. \n",
        "3. Yeni öznitelik (feature) türetme konusundaki inisiyatif tamamen sizlere bırakılmıştır.\n",
        "\n",
        "### Hackathon rehberi\n",
        "* DA503 finali için almış olduğunuz Kaggle hesaplarını burada kullanabilirsiniz. Önemli olan Public Leaderboard üzerinde isimlerinizin görünüyor olmasıdır.\n",
        "* Kaggle'a giriş yaptıktan sonra **https://www.kaggle.com/t/96ff603c76bb404589d4e4d5c0068be4** linki üzerinden yarışma sayfasını açın.\n",
        "* En iyi çalışan modeli elde ettiğinizde bir tahmin dosyası hazırlayın (örneğin **`pred.csv`** gibi) ve Kaggle'a yükleyin. Kullandığınız dosya isminin bir önemi bulunmamaktadır. Ancak bir hata ile karşılaşmamak için dosya formatı kritik öneme sahiptir (bir sonraki maddeyi lütfen dikkatle inceleyin).\n",
        "* Unutmayın, Hackathon süresince **7** kez çözüm dosyası yükleme hakkınız bulunmaktadır. \n",
        "\n",
        "### Kaggle'a yüklenecek dosyayı nasıl hazırlayacağım?\n",
        "\n",
        "Test verisini kullanarak oluşturduğunuz tahminlerinizi bir **.csv** dosyasına (örneğin **`pred.csv`**) birer satır olarak alt alta yazarak Kaggle'a yüklemeniz gerekmektedir. Dosyanızın aşağıdaki gibi bir formatta hazırlanmış olması bir hata ile karşılaşmamanız için oldukça önemlidir. Aşağıdaki örnekte \"Prediction\" kolonundaki değerler rasgele seçilmiştir.\n",
        "\n",
        "Tahminlerimizi **dfpred** isimli bir dataframe'de topladığımızı düşünelim: \n",
        "\n",
        "<pre>\n",
        ">>> dfpred.head(63672)\n",
        "</pre>\n",
        "|ID|Prediction|\n",
        "|-----|--------|\n",
        "|1|0|\n",
        "|2|1|\n",
        "|...|...|\n",
        "|63671|0|\n",
        "|63672|1|\n",
        "\n",
        "Dosyada \"ID\" ve \"Prediction\" bir \"header\" olarak bulunmalıdır. \"ID\" kolonu 1 ile 63672 (her ikisi de dahil)\n",
        "arasında değişen bir integer olarak verilmelidir.\n",
        "\n",
        "**Python ile pred.csv dosyasını nasıl oluştururum?**\n",
        "<pre>\n",
        "# dfpred: dataframe for your predictions containing \"ID\" and \"Prediction\" fields\n",
        "# How to write to a csv file \n",
        "dfpred.to_csv('pred.csv', index=False)\n",
        "</pre>\n",
        "\n",
        "Dosyanızı artık Kaggle'a yükleyebilirsiniz.\n",
        "\n",
        "### Kaggle tahmin dosyanızı nasıl değerlendiriyor?\n",
        "\n",
        "Tahminlerinizi (pred.csv) Kaggle'a 7 kez yükleme hakkınız bulunmaktadır. Çözüm için kullandığınız modellerin hiç görmediği test verisi üzerindeki **ROC_AUC** performanslarını ancak bu şekilde ölçebilirsiniz. Modelde yapılan değişikliklerin sonuçlarını Kaggle üzerindeki performansınızı takip ederek yorumlayabilirsiniz. Aynı zamanda diğer grupların performansları ve sıralamaları da buradan görünür olacaktır.\n",
        "\n",
        "**Dikkat**: Kaggle'da **Public Leaderboard** altında görünen (ROC_AUC) skorunuz test verisinin yalnızca %40'ı üzerindeki değerlendirme ile sıralamaya alınmaktadır. Hackathon'un nihai sıralaması ancak yarışma tamamlandığında test verisinin geriye kalan %60'ının da değerlendirmeye eklenmesiye (bu kısım sizlere görünür olmayan **Private Leaderboard** altında tutuluyor) ortaya çıkacaktır. Bu nedenle **Public Leaderboard** skorlarınızın sizlere kısıtlı bir rehberlik sağlayacağını unutmayın. Public Leaderboard'da daha düşük bir sıralamada bulunanan ama daha iyi genelleştirme yapabilmeyi başaran ekiplerin  nihai değerlendirme sonucu sıralamada yükselebileceklerini hatırlatmak isterim.\n",
        "\n",
        "Teslim ettiğiniz tüm skorlar içinden değerlendirmeye alınmasını istediklerinizi seçebileceğinizi lütfen unutmayın. Aksi halde default seçim olarak Kaggle en iyi \"Public\" skora sahip çözümü referans alacaktır.\n",
        "#### Bol şans!"
      ]
    },
    {
      "cell_type": "code",
      "metadata": {
        "id": "U3V4CsKcHKMV"
      },
      "source": [
        "import numpy as np\n",
        "import pandas as pd\n",
        "import seaborn as sns\n",
        "import matplotlib.pyplot as plt\n",
        "from sklearn import preprocessing\n",
        "import io\n",
        "from sklearn.ensemble import RandomForestClassifier as RF\n",
        "from sklearn.model_selection import train_test_split, GridSearchCV, RandomizedSearchCV\n",
        "from sklearn.pipeline import make_pipeline, Pipeline\n",
        "from sklearn.preprocessing import StandardScaler\n",
        "from sklearn.linear_model import LogisticRegression\n",
        "from sklearn.model_selection import StratifiedKFold\n",
        "from sklearn.model_selection import GridSearchCV\n",
        "from sklearn import model_selection\n",
        "from sklearn.model_selection import GridSearchCV, RandomizedSearchCV\n",
        "from sklearn.metrics import f1_score\n",
        "from sklearn.ensemble import GradientBoostingClassifier, BaggingClassifier, AdaBoostClassifier\n",
        "import xgboost as xgb\n",
        "from xgboost.sklearn import XGBClassifier\n",
        "from sklearn.tree import DecisionTreeClassifier\n",
        "from sklearn.ensemble import RandomForestClassifier, ExtraTreesClassifier\n",
        "from sklearn.ensemble import GradientBoostingClassifier, BaggingClassifier, AdaBoostClassifier\n",
        "from google.colab import files\n",
        "from sklearn.compose import ColumnTransformer\n",
        "from sklearn.metrics import confusion_matrix\n",
        "from sklearn.metrics import precision_score, recall_score, roc_auc_score, precision_recall_curve\n",
        "from sklearn.metrics import f1_score, fbeta_score, accuracy_score, classification_report, average_precision_score\n",
        "sns.set()\n",
        "import warnings\n",
        "warnings.filterwarnings(\"ignore\") # Don't want to see the warnings in the notebook"
      ],
      "execution_count": 50,
      "outputs": []
    },
    {
      "cell_type": "code",
      "metadata": {
        "id": "KB6yzl4RJgml"
      },
      "source": [
        "df_train = pd.read_excel('Arac_train.xlsx')"
      ],
      "execution_count": 7,
      "outputs": []
    },
    {
      "cell_type": "code",
      "metadata": {
        "colab": {
          "base_uri": "https://localhost:8080/",
          "height": 195
        },
        "id": "xikEgIJAJ2aK",
        "outputId": "0464475d-84a1-4ffa-8594-edfb5d5fdfeb"
      },
      "source": [
        "df_train.head()"
      ],
      "execution_count": 8,
      "outputs": [
        {
          "output_type": "execute_result",
          "data": {
            "text/html": [
              "<div>\n",
              "<style scoped>\n",
              "    .dataframe tbody tr th:only-of-type {\n",
              "        vertical-align: middle;\n",
              "    }\n",
              "\n",
              "    .dataframe tbody tr th {\n",
              "        vertical-align: top;\n",
              "    }\n",
              "\n",
              "    .dataframe thead th {\n",
              "        text-align: right;\n",
              "    }\n",
              "</style>\n",
              "<table border=\"1\" class=\"dataframe\">\n",
              "  <thead>\n",
              "    <tr style=\"text-align: right;\">\n",
              "      <th></th>\n",
              "      <th>Musteri_no</th>\n",
              "      <th>Cinsiyet</th>\n",
              "      <th>Yas</th>\n",
              "      <th>Ehliyet</th>\n",
              "      <th>Sehir</th>\n",
              "      <th>Gecmis_police</th>\n",
              "      <th>Arac_yasi</th>\n",
              "      <th>Hasar_durumu</th>\n",
              "      <th>Yillik_prim</th>\n",
              "      <th>Acenta_no</th>\n",
              "      <th>Sure</th>\n",
              "      <th>Sonuc</th>\n",
              "    </tr>\n",
              "  </thead>\n",
              "  <tbody>\n",
              "    <tr>\n",
              "      <th>0</th>\n",
              "      <td>301236</td>\n",
              "      <td>E</td>\n",
              "      <td>1985</td>\n",
              "      <td>Var</td>\n",
              "      <td>Ordu</td>\n",
              "      <td>Yok</td>\n",
              "      <td>1-2 Yil</td>\n",
              "      <td>E</td>\n",
              "      <td>2960.00</td>\n",
              "      <td>147</td>\n",
              "      <td>131</td>\n",
              "      <td>0</td>\n",
              "    </tr>\n",
              "    <tr>\n",
              "      <th>1</th>\n",
              "      <td>360545</td>\n",
              "      <td>E</td>\n",
              "      <td>1990</td>\n",
              "      <td>Var</td>\n",
              "      <td>Gaziantep</td>\n",
              "      <td>Var</td>\n",
              "      <td>&lt; 1 Yil</td>\n",
              "      <td>H</td>\n",
              "      <td>3081.78</td>\n",
              "      <td>177</td>\n",
              "      <td>213</td>\n",
              "      <td>0</td>\n",
              "    </tr>\n",
              "    <tr>\n",
              "      <th>2</th>\n",
              "      <td>124745</td>\n",
              "      <td>E</td>\n",
              "      <td>1990</td>\n",
              "      <td>Var</td>\n",
              "      <td>Kocaeli</td>\n",
              "      <td>Yok</td>\n",
              "      <td>&lt; 1 Yil</td>\n",
              "      <td>E</td>\n",
              "      <td>3672.67</td>\n",
              "      <td>177</td>\n",
              "      <td>72</td>\n",
              "      <td>0</td>\n",
              "    </tr>\n",
              "    <tr>\n",
              "      <th>3</th>\n",
              "      <td>72320</td>\n",
              "      <td>E</td>\n",
              "      <td>1995</td>\n",
              "      <td>Var</td>\n",
              "      <td>Izmir</td>\n",
              "      <td>Var</td>\n",
              "      <td>&lt; 1 Yil</td>\n",
              "      <td>H</td>\n",
              "      <td>3599.89</td>\n",
              "      <td>177</td>\n",
              "      <td>117</td>\n",
              "      <td>0</td>\n",
              "    </tr>\n",
              "    <tr>\n",
              "      <th>4</th>\n",
              "      <td>226178</td>\n",
              "      <td>E</td>\n",
              "      <td>1998</td>\n",
              "      <td>Var</td>\n",
              "      <td>Kocaeli</td>\n",
              "      <td>Yok</td>\n",
              "      <td>&lt; 1 Yil</td>\n",
              "      <td>E</td>\n",
              "      <td>3697.22</td>\n",
              "      <td>177</td>\n",
              "      <td>177</td>\n",
              "      <td>0</td>\n",
              "    </tr>\n",
              "  </tbody>\n",
              "</table>\n",
              "</div>"
            ],
            "text/plain": [
              "   Musteri_no Cinsiyet   Yas Ehliyet  ... Yillik_prim Acenta_no Sure Sonuc\n",
              "0      301236        E  1985     Var  ...     2960.00       147  131     0\n",
              "1      360545        E  1990     Var  ...     3081.78       177  213     0\n",
              "2      124745        E  1990     Var  ...     3672.67       177   72     0\n",
              "3       72320        E  1995     Var  ...     3599.89       177  117     0\n",
              "4      226178        E  1998     Var  ...     3697.22       177  177     0\n",
              "\n",
              "[5 rows x 12 columns]"
            ]
          },
          "metadata": {
            "tags": []
          },
          "execution_count": 8
        }
      ]
    },
    {
      "cell_type": "code",
      "metadata": {
        "colab": {
          "base_uri": "https://localhost:8080/"
        },
        "id": "Bjbfs9KKKUua",
        "outputId": "2c9324ca-af50-458c-cc6c-28d3cdcc9f06"
      },
      "source": [
        "df_train.info()  #There is no missing value"
      ],
      "execution_count": 9,
      "outputs": [
        {
          "output_type": "stream",
          "text": [
            "<class 'pandas.core.frame.DataFrame'>\n",
            "RangeIndex: 254687 entries, 0 to 254686\n",
            "Data columns (total 12 columns):\n",
            " #   Column         Non-Null Count   Dtype  \n",
            "---  ------         --------------   -----  \n",
            " 0   Musteri_no     254687 non-null  int64  \n",
            " 1   Cinsiyet       254687 non-null  object \n",
            " 2   Yas            254687 non-null  int64  \n",
            " 3   Ehliyet        254687 non-null  object \n",
            " 4   Sehir          254687 non-null  object \n",
            " 5   Gecmis_police  254687 non-null  object \n",
            " 6   Arac_yasi      254687 non-null  object \n",
            " 7   Hasar_durumu   254687 non-null  object \n",
            " 8   Yillik_prim    254687 non-null  float64\n",
            " 9   Acenta_no      254687 non-null  int64  \n",
            " 10  Sure           254687 non-null  int64  \n",
            " 11  Sonuc          254687 non-null  int64  \n",
            "dtypes: float64(1), int64(5), object(6)\n",
            "memory usage: 23.3+ MB\n"
          ],
          "name": "stdout"
        }
      ]
    },
    {
      "cell_type": "code",
      "metadata": {
        "colab": {
          "base_uri": "https://localhost:8080/",
          "height": 352
        },
        "id": "T0CrR52iKY1p",
        "outputId": "40a4777d-bea2-4cf9-c932-6cd10d14f4fc"
      },
      "source": [
        "# Class distribution\n",
        "print(df_train.groupby('Sonuc').size()) \n",
        "\n",
        "sns.countplot(df_train['Sonuc'],label=\"Count\"); # Frequency of target "
      ],
      "execution_count": 10,
      "outputs": [
        {
          "output_type": "stream",
          "text": [
            "Sonuc\n",
            "0    223556\n",
            "1     31131\n",
            "dtype: int64\n"
          ],
          "name": "stdout"
        },
        {
          "output_type": "display_data",
          "data": {
            "image/png": "[encoded data removed]",
            "text/plain": [
              "<Figure size 432x288 with 1 Axes>"
            ]
          },
          "metadata": {
            "tags": [],
            "needs_background": "light"
          }
        }
      ]
    },
    {
      "cell_type": "markdown",
      "metadata": {
        "id": "3Yl0L12mLeIO"
      },
      "source": [
        "Out of 254687 instances, number of customers interesting is 31131 (12.2%), no interesting is 223556 (87.7%). We have a somewhat unbalanced data set."
      ]
    },
    {
      "cell_type": "code",
      "metadata": {
        "id": "rjE6NmAKNBe9"
      },
      "source": [
        "df_train['Yas2']= 2021-df_train[\"Yas\"]  "
      ],
      "execution_count": 11,
      "outputs": []
    },
    {
      "cell_type": "code",
      "metadata": {
        "id": "oYiQKL3ZNhW6"
      },
      "source": [
        "df_train.drop(['Yas'], inplace=True, axis=1)"
      ],
      "execution_count": 12,
      "outputs": []
    },
    {
      "cell_type": "code",
      "metadata": {
        "colab": {
          "base_uri": "https://localhost:8080/",
          "height": 195
        },
        "id": "oocQz_EiNR1k",
        "outputId": "62381e2e-4902-4b93-e67f-3ce3e96cd5af"
      },
      "source": [
        "df_train.head()"
      ],
      "execution_count": 13,
      "outputs": [
        {
          "output_type": "execute_result",
          "data": {
            "text/html": [
              "<div>\n",
              "<style scoped>\n",
              "    .dataframe tbody tr th:only-of-type {\n",
              "        vertical-align: middle;\n",
              "    }\n",
              "\n",
              "    .dataframe tbody tr th {\n",
              "        vertical-align: top;\n",
              "    }\n",
              "\n",
              "    .dataframe thead th {\n",
              "        text-align: right;\n",
              "    }\n",
              "</style>\n",
              "<table border=\"1\" class=\"dataframe\">\n",
              "  <thead>\n",
              "    <tr style=\"text-align: right;\">\n",
              "      <th></th>\n",
              "      <th>Musteri_no</th>\n",
              "      <th>Cinsiyet</th>\n",
              "      <th>Ehliyet</th>\n",
              "      <th>Sehir</th>\n",
              "      <th>Gecmis_police</th>\n",
              "      <th>Arac_yasi</th>\n",
              "      <th>Hasar_durumu</th>\n",
              "      <th>Yillik_prim</th>\n",
              "      <th>Acenta_no</th>\n",
              "      <th>Sure</th>\n",
              "      <th>Sonuc</th>\n",
              "      <th>Yas2</th>\n",
              "    </tr>\n",
              "  </thead>\n",
              "  <tbody>\n",
              "    <tr>\n",
              "      <th>0</th>\n",
              "      <td>301236</td>\n",
              "      <td>E</td>\n",
              "      <td>Var</td>\n",
              "      <td>Ordu</td>\n",
              "      <td>Yok</td>\n",
              "      <td>1-2 Yil</td>\n",
              "      <td>E</td>\n",
              "      <td>2960.00</td>\n",
              "      <td>147</td>\n",
              "      <td>131</td>\n",
              "      <td>0</td>\n",
              "      <td>36</td>\n",
              "    </tr>\n",
              "    <tr>\n",
              "      <th>1</th>\n",
              "      <td>360545</td>\n",
              "      <td>E</td>\n",
              "      <td>Var</td>\n",
              "      <td>Gaziantep</td>\n",
              "      <td>Var</td>\n",
              "      <td>&lt; 1 Yil</td>\n",
              "      <td>H</td>\n",
              "      <td>3081.78</td>\n",
              "      <td>177</td>\n",
              "      <td>213</td>\n",
              "      <td>0</td>\n",
              "      <td>31</td>\n",
              "    </tr>\n",
              "    <tr>\n",
              "      <th>2</th>\n",
              "      <td>124745</td>\n",
              "      <td>E</td>\n",
              "      <td>Var</td>\n",
              "      <td>Kocaeli</td>\n",
              "      <td>Yok</td>\n",
              "      <td>&lt; 1 Yil</td>\n",
              "      <td>E</td>\n",
              "      <td>3672.67</td>\n",
              "      <td>177</td>\n",
              "      <td>72</td>\n",
              "      <td>0</td>\n",
              "      <td>31</td>\n",
              "    </tr>\n",
              "    <tr>\n",
              "      <th>3</th>\n",
              "      <td>72320</td>\n",
              "      <td>E</td>\n",
              "      <td>Var</td>\n",
              "      <td>Izmir</td>\n",
              "      <td>Var</td>\n",
              "      <td>&lt; 1 Yil</td>\n",
              "      <td>H</td>\n",
              "      <td>3599.89</td>\n",
              "      <td>177</td>\n",
              "      <td>117</td>\n",
              "      <td>0</td>\n",
              "      <td>26</td>\n",
              "    </tr>\n",
              "    <tr>\n",
              "      <th>4</th>\n",
              "      <td>226178</td>\n",
              "      <td>E</td>\n",
              "      <td>Var</td>\n",
              "      <td>Kocaeli</td>\n",
              "      <td>Yok</td>\n",
              "      <td>&lt; 1 Yil</td>\n",
              "      <td>E</td>\n",
              "      <td>3697.22</td>\n",
              "      <td>177</td>\n",
              "      <td>177</td>\n",
              "      <td>0</td>\n",
              "      <td>23</td>\n",
              "    </tr>\n",
              "  </tbody>\n",
              "</table>\n",
              "</div>"
            ],
            "text/plain": [
              "   Musteri_no Cinsiyet Ehliyet      Sehir  ... Acenta_no Sure Sonuc  Yas2\n",
              "0      301236        E     Var       Ordu  ...       147  131     0    36\n",
              "1      360545        E     Var  Gaziantep  ...       177  213     0    31\n",
              "2      124745        E     Var    Kocaeli  ...       177   72     0    31\n",
              "3       72320        E     Var      Izmir  ...       177  117     0    26\n",
              "4      226178        E     Var    Kocaeli  ...       177  177     0    23\n",
              "\n",
              "[5 rows x 12 columns]"
            ]
          },
          "metadata": {
            "tags": []
          },
          "execution_count": 13
        }
      ]
    },
    {
      "cell_type": "code",
      "metadata": {
        "colab": {
          "base_uri": "https://localhost:8080/",
          "height": 394
        },
        "id": "rfxa4jgnMYAF",
        "outputId": "bdfd7124-9be8-4976-c204-4b08629970c3"
      },
      "source": [
        "plt.figure(figsize=(15,6))\n",
        "plt.subplot(1,3,1)\n",
        "sns.boxplot(x='Sonuc', y='Yillik_prim', data=df_train)\n",
        "plt.subplot(1,3,2)\n",
        "sns.boxplot(x='Sonuc', y='Sure', data=df_train)\n",
        "plt.subplot(1,3,3)\n",
        "sns.boxplot(x='Sonuc', y='Yas2', data=df_train)\n",
        "plt.show()"
      ],
      "execution_count": 14,
      "outputs": [
        {
          "output_type": "display_data",
          "data": {
            "image/png": "[encoded data removed]",
            "text/plain": [
              "<Figure size 1080x432 with 3 Axes>"
            ]
          },
          "metadata": {
            "tags": [],
            "needs_background": "light"
          }
        }
      ]
    },
    {
      "cell_type": "markdown",
      "metadata": {
        "id": "MNW6rhV9OTPH"
      },
      "source": [
        "The age factor seems to affect whether customers are interested in insurance.The annual premium and duration does not seem to affect customers' involvement in insurance."
      ]
    },
    {
      "cell_type": "code",
      "metadata": {
        "colab": {
          "base_uri": "https://localhost:8080/",
          "height": 302
        },
        "id": "F7SaLzAxXSMg",
        "outputId": "e1a1dbd6-30f5-42ac-b410-33e6e66c9443"
      },
      "source": [
        "sns.distplot(df_train.Yas2)"
      ],
      "execution_count": 15,
      "outputs": [
        {
          "output_type": "execute_result",
          "data": {
            "text/plain": [
              "<matplotlib.axes._subplots.AxesSubplot at 0x7fa37d213210>"
            ]
          },
          "metadata": {
            "tags": []
          },
          "execution_count": 15
        },
        {
          "output_type": "display_data",
          "data": {
            "image/png": "[encoded data removed]",
            "text/plain": [
              "<Figure size 432x288 with 1 Axes>"
            ]
          },
          "metadata": {
            "tags": [],
            "needs_background": "light"
          }
        }
      ]
    },
    {
      "cell_type": "code",
      "metadata": {
        "colab": {
          "base_uri": "https://localhost:8080/",
          "height": 336
        },
        "id": "CP71c6FSO9uB",
        "outputId": "41f096a0-5834-4cfd-9172-261b7b9c75eb"
      },
      "source": [
        "gender_table = pd.crosstab(index=df_train['Cinsiyet'],columns=df_train['Sonuc'])\n",
        "gender_table.plot(kind='bar', stacked=True, figsize=(7,5));"
      ],
      "execution_count": 16,
      "outputs": [
        {
          "output_type": "display_data",
          "data": {
            "image/png": "[encoded data removed]",
            "text/plain": [
              "<Figure size 504x360 with 1 Axes>"
            ]
          },
          "metadata": {
            "tags": [],
            "needs_background": "light"
          }
        }
      ]
    },
    {
      "cell_type": "code",
      "metadata": {
        "colab": {
          "base_uri": "https://localhost:8080/",
          "height": 348
        },
        "id": "uxCAUMJzPzAH",
        "outputId": "5a7b696e-9773-458c-c599-56c5985ec1a6"
      },
      "source": [
        "ehliyet_table = pd.crosstab(index=df_train['Ehliyet'],columns=df_train['Sonuc'])\n",
        "ehliyet_table.plot(kind='bar', stacked=True, figsize=(7,5));"
      ],
      "execution_count": 17,
      "outputs": [
        {
          "output_type": "display_data",
          "data": {
            "image/png": "[encoded data removed]",
            "text/plain": [
              "<Figure size 504x360 with 1 Axes>"
            ]
          },
          "metadata": {
            "tags": [],
            "needs_background": "light"
          }
        }
      ]
    },
    {
      "cell_type": "code",
      "metadata": {
        "colab": {
          "base_uri": "https://localhost:8080/",
          "height": 462
        },
        "id": "GKdFcBo5Q2zQ",
        "outputId": "271e27ba-49c3-4375-bfdb-e6c2a07c87b6"
      },
      "source": [
        "tmp = df_train.groupby(['Sehir','Sonuc']).size()\n",
        "tmp = tmp / tmp.groupby(level=0).sum()\n",
        "tmp.unstack('Sonuc').plot(kind='bar', figsize=(18,6), stacked=True)\n",
        "\n",
        "plt.xlabel(\"Şehir\")\n",
        "plt.ylabel(\"Sonuc Rate\")\n",
        "plt.title(\"Şehir vs Sonuc\")\n",
        "plt.ylim([0,1.15])\n",
        "plt.legend(loc='upper right')\n",
        "plt.show()"
      ],
      "execution_count": 18,
      "outputs": [
        {
          "output_type": "display_data",
          "data": {
            "image/png": "[encoded data removed]",
            "text/plain": [
              "<Figure size 1296x432 with 1 Axes>"
            ]
          },
          "metadata": {
            "tags": [],
            "needs_background": "light"
          }
        }
      ]
    },
    {
      "cell_type": "code",
      "metadata": {
        "colab": {
          "base_uri": "https://localhost:8080/",
          "height": 395
        },
        "id": "odnRa8bJRdV-",
        "outputId": "7cac4ccb-c4eb-4bed-9357-a6e593d77d34"
      },
      "source": [
        "f, axes2 = plt.subplots(nrows=1, ncols=1, figsize=(25, 6), sharex=False)\n",
        "plt.title(\"şehir vs. sonuç\")\n",
        "sns.countplot(x=df_train[\"Sehir\"], hue=df_train[\"Sonuc\"], ax=axes2);"
      ],
      "execution_count": 19,
      "outputs": [
        {
          "output_type": "display_data",
          "data": {
            "image/png": "[encoded data removed]",
            "text/plain": [
              "<Figure size 1800x432 with 1 Axes>"
            ]
          },
          "metadata": {
            "tags": [],
            "needs_background": "light"
          }
        }
      ]
    },
    {
      "cell_type": "markdown",
      "metadata": {
        "id": "cZtlZ4WcSro9"
      },
      "source": [
        "central locations have more customer data in İstanbul, Ankara, İzmir, Kocaeli. In decentralized areas, fewer customers take out insurance and have intermediaries. For this reason, its rate is high in the 1st chart like Elazığ, Ağrı,Mus"
      ]
    },
    {
      "cell_type": "code",
      "metadata": {
        "colab": {
          "base_uri": "https://localhost:8080/",
          "height": 431
        },
        "id": "V0iKOZbNReVj",
        "outputId": "5bc47434-dbc0-44e5-ff8c-8519c7e63c89"
      },
      "source": [
        "df_train.groupby(['Acenta_no','Sehir']).count()"
      ],
      "execution_count": 20,
      "outputs": [
        {
          "output_type": "execute_result",
          "data": {
            "text/html": [
              "<div>\n",
              "<style scoped>\n",
              "    .dataframe tbody tr th:only-of-type {\n",
              "        vertical-align: middle;\n",
              "    }\n",
              "\n",
              "    .dataframe tbody tr th {\n",
              "        vertical-align: top;\n",
              "    }\n",
              "\n",
              "    .dataframe thead th {\n",
              "        text-align: right;\n",
              "    }\n",
              "</style>\n",
              "<table border=\"1\" class=\"dataframe\">\n",
              "  <thead>\n",
              "    <tr style=\"text-align: right;\">\n",
              "      <th></th>\n",
              "      <th></th>\n",
              "      <th>Musteri_no</th>\n",
              "      <th>Cinsiyet</th>\n",
              "      <th>Ehliyet</th>\n",
              "      <th>Gecmis_police</th>\n",
              "      <th>Arac_yasi</th>\n",
              "      <th>Hasar_durumu</th>\n",
              "      <th>Yillik_prim</th>\n",
              "      <th>Sure</th>\n",
              "      <th>Sonuc</th>\n",
              "      <th>Yas2</th>\n",
              "    </tr>\n",
              "    <tr>\n",
              "      <th>Acenta_no</th>\n",
              "      <th>Sehir</th>\n",
              "      <th></th>\n",
              "      <th></th>\n",
              "      <th></th>\n",
              "      <th></th>\n",
              "      <th></th>\n",
              "      <th></th>\n",
              "      <th></th>\n",
              "      <th></th>\n",
              "      <th></th>\n",
              "      <th></th>\n",
              "    </tr>\n",
              "  </thead>\n",
              "  <tbody>\n",
              "    <tr>\n",
              "      <th rowspan=\"5\" valign=\"top\">26</th>\n",
              "      <th>Adana</th>\n",
              "      <td>1</td>\n",
              "      <td>1</td>\n",
              "      <td>1</td>\n",
              "      <td>1</td>\n",
              "      <td>1</td>\n",
              "      <td>1</td>\n",
              "      <td>1</td>\n",
              "      <td>1</td>\n",
              "      <td>1</td>\n",
              "      <td>1</td>\n",
              "    </tr>\n",
              "    <tr>\n",
              "      <th>Adiyaman</th>\n",
              "      <td>1</td>\n",
              "      <td>1</td>\n",
              "      <td>1</td>\n",
              "      <td>1</td>\n",
              "      <td>1</td>\n",
              "      <td>1</td>\n",
              "      <td>1</td>\n",
              "      <td>1</td>\n",
              "      <td>1</td>\n",
              "      <td>1</td>\n",
              "    </tr>\n",
              "    <tr>\n",
              "      <th>Afyon</th>\n",
              "      <td>1</td>\n",
              "      <td>1</td>\n",
              "      <td>1</td>\n",
              "      <td>1</td>\n",
              "      <td>1</td>\n",
              "      <td>1</td>\n",
              "      <td>1</td>\n",
              "      <td>1</td>\n",
              "      <td>1</td>\n",
              "      <td>1</td>\n",
              "    </tr>\n",
              "    <tr>\n",
              "      <th>Agri</th>\n",
              "      <td>1</td>\n",
              "      <td>1</td>\n",
              "      <td>1</td>\n",
              "      <td>1</td>\n",
              "      <td>1</td>\n",
              "      <td>1</td>\n",
              "      <td>1</td>\n",
              "      <td>1</td>\n",
              "      <td>1</td>\n",
              "      <td>1</td>\n",
              "    </tr>\n",
              "    <tr>\n",
              "      <th>Antalya</th>\n",
              "      <td>1</td>\n",
              "      <td>1</td>\n",
              "      <td>1</td>\n",
              "      <td>1</td>\n",
              "      <td>1</td>\n",
              "      <td>1</td>\n",
              "      <td>1</td>\n",
              "      <td>1</td>\n",
              "      <td>1</td>\n",
              "      <td>1</td>\n",
              "    </tr>\n",
              "    <tr>\n",
              "      <th>...</th>\n",
              "      <th>...</th>\n",
              "      <td>...</td>\n",
              "      <td>...</td>\n",
              "      <td>...</td>\n",
              "      <td>...</td>\n",
              "      <td>...</td>\n",
              "      <td>...</td>\n",
              "      <td>...</td>\n",
              "      <td>...</td>\n",
              "      <td>...</td>\n",
              "      <td>...</td>\n",
              "    </tr>\n",
              "    <tr>\n",
              "      <th rowspan=\"5\" valign=\"top\">188</th>\n",
              "      <th>Urfa</th>\n",
              "      <td>31</td>\n",
              "      <td>31</td>\n",
              "      <td>31</td>\n",
              "      <td>31</td>\n",
              "      <td>31</td>\n",
              "      <td>31</td>\n",
              "      <td>31</td>\n",
              "      <td>31</td>\n",
              "      <td>31</td>\n",
              "      <td>31</td>\n",
              "    </tr>\n",
              "    <tr>\n",
              "      <th>Usak</th>\n",
              "      <td>2</td>\n",
              "      <td>2</td>\n",
              "      <td>2</td>\n",
              "      <td>2</td>\n",
              "      <td>2</td>\n",
              "      <td>2</td>\n",
              "      <td>2</td>\n",
              "      <td>2</td>\n",
              "      <td>2</td>\n",
              "      <td>2</td>\n",
              "    </tr>\n",
              "    <tr>\n",
              "      <th>Van</th>\n",
              "      <td>2</td>\n",
              "      <td>2</td>\n",
              "      <td>2</td>\n",
              "      <td>2</td>\n",
              "      <td>2</td>\n",
              "      <td>2</td>\n",
              "      <td>2</td>\n",
              "      <td>2</td>\n",
              "      <td>2</td>\n",
              "      <td>2</td>\n",
              "    </tr>\n",
              "    <tr>\n",
              "      <th>Yozgat</th>\n",
              "      <td>4</td>\n",
              "      <td>4</td>\n",
              "      <td>4</td>\n",
              "      <td>4</td>\n",
              "      <td>4</td>\n",
              "      <td>4</td>\n",
              "      <td>4</td>\n",
              "      <td>4</td>\n",
              "      <td>4</td>\n",
              "      <td>4</td>\n",
              "    </tr>\n",
              "    <tr>\n",
              "      <th>Zonguldak</th>\n",
              "      <td>24</td>\n",
              "      <td>24</td>\n",
              "      <td>24</td>\n",
              "      <td>24</td>\n",
              "      <td>24</td>\n",
              "      <td>24</td>\n",
              "      <td>24</td>\n",
              "      <td>24</td>\n",
              "      <td>24</td>\n",
              "      <td>24</td>\n",
              "    </tr>\n",
              "  </tbody>\n",
              "</table>\n",
              "<p>1770 rows × 10 columns</p>\n",
              "</div>"
            ],
            "text/plain": [
              "                     Musteri_no  Cinsiyet  Ehliyet  ...  Sure  Sonuc  Yas2\n",
              "Acenta_no Sehir                                     ...                   \n",
              "26        Adana               1         1        1  ...     1      1     1\n",
              "          Adiyaman            1         1        1  ...     1      1     1\n",
              "          Afyon               1         1        1  ...     1      1     1\n",
              "          Agri                1         1        1  ...     1      1     1\n",
              "          Antalya             1         1        1  ...     1      1     1\n",
              "...                         ...       ...      ...  ...   ...    ...   ...\n",
              "188       Urfa               31        31       31  ...    31     31    31\n",
              "          Usak                2         2        2  ...     2      2     2\n",
              "          Van                 2         2        2  ...     2      2     2\n",
              "          Yozgat              4         4        4  ...     4      4     4\n",
              "          Zonguldak          24        24       24  ...    24     24    24\n",
              "\n",
              "[1770 rows x 10 columns]"
            ]
          },
          "metadata": {
            "tags": []
          },
          "execution_count": 20
        }
      ]
    },
    {
      "cell_type": "markdown",
      "metadata": {
        "id": "-B_itE1LSqOT"
      },
      "source": [
        ""
      ]
    },
    {
      "cell_type": "code",
      "metadata": {
        "colab": {
          "base_uri": "https://localhost:8080/",
          "height": 410
        },
        "id": "wRF9bUULU7lY",
        "outputId": "6b649242-0b6d-4846-a9d1-e9af7ca54c0a"
      },
      "source": [
        "f, axes2 = plt.subplots(nrows=1, ncols=1, figsize=(18, 6), sharex=False)\n",
        "plt.title(\"Hasar vs. sonuç\")\n",
        "sns.countplot(x=df_train[\"Hasar_durumu\"], hue=df_train[\"Sonuc\"], ax=axes2);"
      ],
      "execution_count": 21,
      "outputs": [
        {
          "output_type": "display_data",
          "data": {
            "image/png": "[encoded data removed]",
            "text/plain": [
              "<Figure size 1296x432 with 1 Axes>"
            ]
          },
          "metadata": {
            "tags": [],
            "needs_background": "light"
          }
        }
      ]
    },
    {
      "cell_type": "markdown",
      "metadata": {
        "id": "4U3IZE8yVIPz"
      },
      "source": [
        "Customers are not interested in taking out insurance if the vehicle has no damage"
      ]
    },
    {
      "cell_type": "code",
      "metadata": {
        "colab": {
          "base_uri": "https://localhost:8080/",
          "height": 410
        },
        "id": "q0rRjbl_VBje",
        "outputId": "23b4f7ef-6745-4903-a578-5824120bce35"
      },
      "source": [
        "f, axes2 = plt.subplots(nrows=1, ncols=1, figsize=(18, 6), sharex=False)\n",
        "plt.title(\"araç yaşı vs. sonuç\")\n",
        "sns.countplot(x=df_train[\"Arac_yasi\"], hue=df_train[\"Sonuc\"], ax=axes2);"
      ],
      "execution_count": 22,
      "outputs": [
        {
          "output_type": "display_data",
          "data": {
            "image/png": "[encoded data removed]",
            "text/plain": [
              "<Figure size 1296x432 with 1 Axes>"
            ]
          },
          "metadata": {
            "tags": [],
            "needs_background": "light"
          }
        }
      ]
    },
    {
      "cell_type": "markdown",
      "metadata": {
        "id": "bTxLyFSYVuJU"
      },
      "source": [
        "customers are more likely to consider taking out insurance for under-vehicle age"
      ]
    },
    {
      "cell_type": "code",
      "metadata": {
        "colab": {
          "base_uri": "https://localhost:8080/",
          "height": 410
        },
        "id": "7lc_EZJTVWtL",
        "outputId": "ed30c053-392c-407e-e314-e35cc89741d4"
      },
      "source": [
        "f, axes2 = plt.subplots(nrows=1, ncols=1, figsize=(18, 6), sharex=False)\n",
        "plt.title(\"geçmiş poliçe vs. sonuç\")\n",
        "sns.countplot(x=df_train[\"Gecmis_police\"], hue=df_train[\"Sonuc\"], ax=axes2);"
      ],
      "execution_count": 23,
      "outputs": [
        {
          "output_type": "display_data",
          "data": {
            "image/png": "[encoded data removed]",
            "text/plain": [
              "<Figure size 1296x432 with 1 Axes>"
            ]
          },
          "metadata": {
            "tags": [],
            "needs_background": "light"
          }
        }
      ]
    },
    {
      "cell_type": "markdown",
      "metadata": {
        "id": "dDc4jNd2WIDa"
      },
      "source": [
        "Customers with past policies do not consider taking out insurance."
      ]
    },
    {
      "cell_type": "markdown",
      "metadata": {
        "id": "K7jSEnaNWMbT"
      },
      "source": [
        "# Feature Engineering"
      ]
    },
    {
      "cell_type": "code",
      "metadata": {
        "colab": {
          "base_uri": "https://localhost:8080/",
          "height": 195
        },
        "id": "EPbk5rSxWWKe",
        "outputId": "a888d730-0601-4c4a-fdfb-727da36f20e7"
      },
      "source": [
        "df_train.head()"
      ],
      "execution_count": 24,
      "outputs": [
        {
          "output_type": "execute_result",
          "data": {
            "text/html": [
              "<div>\n",
              "<style scoped>\n",
              "    .dataframe tbody tr th:only-of-type {\n",
              "        vertical-align: middle;\n",
              "    }\n",
              "\n",
              "    .dataframe tbody tr th {\n",
              "        vertical-align: top;\n",
              "    }\n",
              "\n",
              "    .dataframe thead th {\n",
              "        text-align: right;\n",
              "    }\n",
              "</style>\n",
              "<table border=\"1\" class=\"dataframe\">\n",
              "  <thead>\n",
              "    <tr style=\"text-align: right;\">\n",
              "      <th></th>\n",
              "      <th>Musteri_no</th>\n",
              "      <th>Cinsiyet</th>\n",
              "      <th>Ehliyet</th>\n",
              "      <th>Sehir</th>\n",
              "      <th>Gecmis_police</th>\n",
              "      <th>Arac_yasi</th>\n",
              "      <th>Hasar_durumu</th>\n",
              "      <th>Yillik_prim</th>\n",
              "      <th>Acenta_no</th>\n",
              "      <th>Sure</th>\n",
              "      <th>Sonuc</th>\n",
              "      <th>Yas2</th>\n",
              "    </tr>\n",
              "  </thead>\n",
              "  <tbody>\n",
              "    <tr>\n",
              "      <th>0</th>\n",
              "      <td>301236</td>\n",
              "      <td>E</td>\n",
              "      <td>Var</td>\n",
              "      <td>Ordu</td>\n",
              "      <td>Yok</td>\n",
              "      <td>1-2 Yil</td>\n",
              "      <td>E</td>\n",
              "      <td>2960.00</td>\n",
              "      <td>147</td>\n",
              "      <td>131</td>\n",
              "      <td>0</td>\n",
              "      <td>36</td>\n",
              "    </tr>\n",
              "    <tr>\n",
              "      <th>1</th>\n",
              "      <td>360545</td>\n",
              "      <td>E</td>\n",
              "      <td>Var</td>\n",
              "      <td>Gaziantep</td>\n",
              "      <td>Var</td>\n",
              "      <td>&lt; 1 Yil</td>\n",
              "      <td>H</td>\n",
              "      <td>3081.78</td>\n",
              "      <td>177</td>\n",
              "      <td>213</td>\n",
              "      <td>0</td>\n",
              "      <td>31</td>\n",
              "    </tr>\n",
              "    <tr>\n",
              "      <th>2</th>\n",
              "      <td>124745</td>\n",
              "      <td>E</td>\n",
              "      <td>Var</td>\n",
              "      <td>Kocaeli</td>\n",
              "      <td>Yok</td>\n",
              "      <td>&lt; 1 Yil</td>\n",
              "      <td>E</td>\n",
              "      <td>3672.67</td>\n",
              "      <td>177</td>\n",
              "      <td>72</td>\n",
              "      <td>0</td>\n",
              "      <td>31</td>\n",
              "    </tr>\n",
              "    <tr>\n",
              "      <th>3</th>\n",
              "      <td>72320</td>\n",
              "      <td>E</td>\n",
              "      <td>Var</td>\n",
              "      <td>Izmir</td>\n",
              "      <td>Var</td>\n",
              "      <td>&lt; 1 Yil</td>\n",
              "      <td>H</td>\n",
              "      <td>3599.89</td>\n",
              "      <td>177</td>\n",
              "      <td>117</td>\n",
              "      <td>0</td>\n",
              "      <td>26</td>\n",
              "    </tr>\n",
              "    <tr>\n",
              "      <th>4</th>\n",
              "      <td>226178</td>\n",
              "      <td>E</td>\n",
              "      <td>Var</td>\n",
              "      <td>Kocaeli</td>\n",
              "      <td>Yok</td>\n",
              "      <td>&lt; 1 Yil</td>\n",
              "      <td>E</td>\n",
              "      <td>3697.22</td>\n",
              "      <td>177</td>\n",
              "      <td>177</td>\n",
              "      <td>0</td>\n",
              "      <td>23</td>\n",
              "    </tr>\n",
              "  </tbody>\n",
              "</table>\n",
              "</div>"
            ],
            "text/plain": [
              "   Musteri_no Cinsiyet Ehliyet      Sehir  ... Acenta_no Sure Sonuc  Yas2\n",
              "0      301236        E     Var       Ordu  ...       147  131     0    36\n",
              "1      360545        E     Var  Gaziantep  ...       177  213     0    31\n",
              "2      124745        E     Var    Kocaeli  ...       177   72     0    31\n",
              "3       72320        E     Var      Izmir  ...       177  117     0    26\n",
              "4      226178        E     Var    Kocaeli  ...       177  177     0    23\n",
              "\n",
              "[5 rows x 12 columns]"
            ]
          },
          "metadata": {
            "tags": []
          },
          "execution_count": 24
        }
      ]
    },
    {
      "cell_type": "code",
      "metadata": {
        "id": "1LLL8RzfV7e6"
      },
      "source": [
        "df_train['Cinsiyet']= df_train['Cinsiyet'].map({\"K\" : 1, \"E\" : 0})\n",
        "df_train['Ehliyet']= df_train['Ehliyet'].map({'Var' : 1, 'Yok' : 0})\n",
        "df_train['Gecmis_police']= df_train['Gecmis_police'].map({'Var' : 1, 'Yok' : 0})\n",
        "df_train['Hasar_durumu']= df_train['Hasar_durumu'].map({'E' : 1, 'H' : 0})"
      ],
      "execution_count": 25,
      "outputs": []
    },
    {
      "cell_type": "code",
      "metadata": {
        "colab": {
          "base_uri": "https://localhost:8080/",
          "height": 195
        },
        "id": "mO5lQvkwYfoA",
        "outputId": "e498bb82-6fe0-45a1-875f-040e72b12eaa"
      },
      "source": [
        "df_train.head()"
      ],
      "execution_count": 26,
      "outputs": [
        {
          "output_type": "execute_result",
          "data": {
            "text/html": [
              "<div>\n",
              "<style scoped>\n",
              "    .dataframe tbody tr th:only-of-type {\n",
              "        vertical-align: middle;\n",
              "    }\n",
              "\n",
              "    .dataframe tbody tr th {\n",
              "        vertical-align: top;\n",
              "    }\n",
              "\n",
              "    .dataframe thead th {\n",
              "        text-align: right;\n",
              "    }\n",
              "</style>\n",
              "<table border=\"1\" class=\"dataframe\">\n",
              "  <thead>\n",
              "    <tr style=\"text-align: right;\">\n",
              "      <th></th>\n",
              "      <th>Musteri_no</th>\n",
              "      <th>Cinsiyet</th>\n",
              "      <th>Ehliyet</th>\n",
              "      <th>Sehir</th>\n",
              "      <th>Gecmis_police</th>\n",
              "      <th>Arac_yasi</th>\n",
              "      <th>Hasar_durumu</th>\n",
              "      <th>Yillik_prim</th>\n",
              "      <th>Acenta_no</th>\n",
              "      <th>Sure</th>\n",
              "      <th>Sonuc</th>\n",
              "      <th>Yas2</th>\n",
              "    </tr>\n",
              "  </thead>\n",
              "  <tbody>\n",
              "    <tr>\n",
              "      <th>0</th>\n",
              "      <td>301236</td>\n",
              "      <td>0</td>\n",
              "      <td>1</td>\n",
              "      <td>Ordu</td>\n",
              "      <td>0</td>\n",
              "      <td>1-2 Yil</td>\n",
              "      <td>1</td>\n",
              "      <td>2960.00</td>\n",
              "      <td>147</td>\n",
              "      <td>131</td>\n",
              "      <td>0</td>\n",
              "      <td>36</td>\n",
              "    </tr>\n",
              "    <tr>\n",
              "      <th>1</th>\n",
              "      <td>360545</td>\n",
              "      <td>0</td>\n",
              "      <td>1</td>\n",
              "      <td>Gaziantep</td>\n",
              "      <td>1</td>\n",
              "      <td>&lt; 1 Yil</td>\n",
              "      <td>0</td>\n",
              "      <td>3081.78</td>\n",
              "      <td>177</td>\n",
              "      <td>213</td>\n",
              "      <td>0</td>\n",
              "      <td>31</td>\n",
              "    </tr>\n",
              "    <tr>\n",
              "      <th>2</th>\n",
              "      <td>124745</td>\n",
              "      <td>0</td>\n",
              "      <td>1</td>\n",
              "      <td>Kocaeli</td>\n",
              "      <td>0</td>\n",
              "      <td>&lt; 1 Yil</td>\n",
              "      <td>1</td>\n",
              "      <td>3672.67</td>\n",
              "      <td>177</td>\n",
              "      <td>72</td>\n",
              "      <td>0</td>\n",
              "      <td>31</td>\n",
              "    </tr>\n",
              "    <tr>\n",
              "      <th>3</th>\n",
              "      <td>72320</td>\n",
              "      <td>0</td>\n",
              "      <td>1</td>\n",
              "      <td>Izmir</td>\n",
              "      <td>1</td>\n",
              "      <td>&lt; 1 Yil</td>\n",
              "      <td>0</td>\n",
              "      <td>3599.89</td>\n",
              "      <td>177</td>\n",
              "      <td>117</td>\n",
              "      <td>0</td>\n",
              "      <td>26</td>\n",
              "    </tr>\n",
              "    <tr>\n",
              "      <th>4</th>\n",
              "      <td>226178</td>\n",
              "      <td>0</td>\n",
              "      <td>1</td>\n",
              "      <td>Kocaeli</td>\n",
              "      <td>0</td>\n",
              "      <td>&lt; 1 Yil</td>\n",
              "      <td>1</td>\n",
              "      <td>3697.22</td>\n",
              "      <td>177</td>\n",
              "      <td>177</td>\n",
              "      <td>0</td>\n",
              "      <td>23</td>\n",
              "    </tr>\n",
              "  </tbody>\n",
              "</table>\n",
              "</div>"
            ],
            "text/plain": [
              "   Musteri_no  Cinsiyet  Ehliyet      Sehir  ...  Acenta_no Sure  Sonuc  Yas2\n",
              "0      301236         0        1       Ordu  ...        147  131      0    36\n",
              "1      360545         0        1  Gaziantep  ...        177  213      0    31\n",
              "2      124745         0        1    Kocaeli  ...        177   72      0    31\n",
              "3       72320         0        1      Izmir  ...        177  117      0    26\n",
              "4      226178         0        1    Kocaeli  ...        177  177      0    23\n",
              "\n",
              "[5 rows x 12 columns]"
            ]
          },
          "metadata": {
            "tags": []
          },
          "execution_count": 26
        }
      ]
    },
    {
      "cell_type": "code",
      "metadata": {
        "id": "nj8ZgbVIYkht"
      },
      "source": [
        "cols_to_transform = ['Arac_yasi'] # make a list if more than one column\n",
        "df_train2 = pd.get_dummies(df_train, columns = cols_to_transform, drop_first=True)"
      ],
      "execution_count": 27,
      "outputs": []
    },
    {
      "cell_type": "code",
      "metadata": {
        "colab": {
          "base_uri": "https://localhost:8080/"
        },
        "id": "Lhjg_iD5ZmMC",
        "outputId": "e80a66d1-0360-42c7-bf39-fbb641490401"
      },
      "source": [
        "pd.value_counts(df_train['Sehir'])"
      ],
      "execution_count": 28,
      "outputs": [
        {
          "output_type": "execute_result",
          "data": {
            "text/plain": [
              "Istanbul      77761\n",
              "Ankara        23885\n",
              "Izmir         13635\n",
              "Bursa         12862\n",
              "Kocaeli        9030\n",
              "Antalya        8257\n",
              "Adana          7391\n",
              "Gaziantep      7207\n",
              "Konya          6266\n",
              "Mersin         5896\n",
              "Urfa           5796\n",
              "Kayseri        5369\n",
              "Diyarbakir     5054\n",
              "Manisa         4485\n",
              "Hatay          4377\n",
              "Samsun         3754\n",
              "Balikesir      3742\n",
              "Maras          3346\n",
              "Aydin          3179\n",
              "Denizli        2998\n",
              "Sakarya        2889\n",
              "Eskisehir      2828\n",
              "Mugla          2776\n",
              "Tekirdag       2762\n",
              "Malatya        2124\n",
              "Trabzon        1985\n",
              "Adiyaman       1788\n",
              "Erzurum        1716\n",
              "Tokat          1701\n",
              "Sivas          1698\n",
              "Ordu           1695\n",
              "Mardin         1616\n",
              "Afyon          1589\n",
              "Zonguldak      1520\n",
              "Kutahya        1249\n",
              "Canakkale      1228\n",
              "Batman         1121\n",
              "Osmaniye       1108\n",
              "Sirnak         1072\n",
              "Giresun        1064\n",
              "Isparta         959\n",
              "Yozgat          844\n",
              "Aksaray         828\n",
              "Edirne          823\n",
              "Duzce           490\n",
              "Kastamonu       355\n",
              "Usak            156\n",
              "Van             110\n",
              "Nigde            95\n",
              "Elazig           77\n",
              "Agri             52\n",
              "Corum            52\n",
              "Mus              27\n",
              "Name: Sehir, dtype: int64"
            ]
          },
          "metadata": {
            "tags": []
          },
          "execution_count": 28
        }
      ]
    },
    {
      "cell_type": "code",
      "metadata": {
        "id": "EMBrk4nHbnfg"
      },
      "source": [
        "df_train2['Sehir']= df_train2['Sehir'].map({\"Istanbul\" :\"Istanbul\" ,\"Ankara\" :\"Ankara\",\"Izmir\" :\"Izmir\" ,\"Bursa\" :\"Bursa\" ,\"Kocaeli\":\"Kocaeli\" ,\"Antalya\" :\"Diger\" ,\n",
        "                                            \"Adana\":\"Diger\" ,\"Gaziantep\":\"Diger\",\"Konya\":\"Diger\",\"Mersin\":\"Diger\",\"Urfa\":\"Diger\",\"Kayseri\":\"Diger\",\"Diyarbakir\":\"Diger\",\n",
        "                                            \"Manisa\":\"Diger\",\"Hatay\":\"Diger\",\"Samsun\":\"Diger\",\"Balikesir\":\"Diger\",\"Maras\":\"Diger\",\"Aydin\":\"Diger\",\"Denizli\":\"Diger\",\n",
        "                                            \"Sakarya\":\"Diger\",\"Eskisehir\":\"Diger\",\"Mugla\":\"Diger\",\"Tekirdag\":\"Diger\",\"Malatya\":\"Diger\",\"Trabzon\":\"Diger\",\"Adiyaman\":\"Diger\",\n",
        "                                            \"Erzurum\":\"Diger\",\"Tokat\":\"Diger\",\"Sivas\":\"Diger\",\"Ordu\":\"Diger\",\"Mardin\":\"Diger\",\"Afyon\":\"Diger\",\"Zonguldak\":\"Diger\",\n",
        "                                            \"Kutahya\":\"Diger\",\"Canakkale\":\"Diger\",\"Batman\":\"Diger\",\"Osmaniye\":\"Diger\",\"Sirnak\":\"Diger\",\"Giresun\":\"Diger\",\"Isparta\":\"Diger\",\n",
        "                                            \"Yozgat\":\"Diger\",\"Aksaray\":\"Diger\",\"Edirne\":\"Diger\",\"Duzce\":\"Diger\",\"Kastamonu\":\"Diger\",\"Usak\":\"Diger\",\"Van\":\"Diger\",\"Nigde\":\"Diger\",\n",
        "                                            \"Elazig\":\"Diger\",\"Agri\":\"Diger\",\"Corum\":\"Diger\",\"Mus\":\"Diger\"})\n",
        "\n",
        "\n"
      ],
      "execution_count": 29,
      "outputs": []
    },
    {
      "cell_type": "code",
      "metadata": {
        "colab": {
          "base_uri": "https://localhost:8080/",
          "height": 212
        },
        "id": "DpOEJ1d_e9MJ",
        "outputId": "eabc1666-a71d-4fff-fba3-df8e6fb58990"
      },
      "source": [
        "df_train2.head()"
      ],
      "execution_count": 30,
      "outputs": [
        {
          "output_type": "execute_result",
          "data": {
            "text/html": [
              "<div>\n",
              "<style scoped>\n",
              "    .dataframe tbody tr th:only-of-type {\n",
              "        vertical-align: middle;\n",
              "    }\n",
              "\n",
              "    .dataframe tbody tr th {\n",
              "        vertical-align: top;\n",
              "    }\n",
              "\n",
              "    .dataframe thead th {\n",
              "        text-align: right;\n",
              "    }\n",
              "</style>\n",
              "<table border=\"1\" class=\"dataframe\">\n",
              "  <thead>\n",
              "    <tr style=\"text-align: right;\">\n",
              "      <th></th>\n",
              "      <th>Musteri_no</th>\n",
              "      <th>Cinsiyet</th>\n",
              "      <th>Ehliyet</th>\n",
              "      <th>Sehir</th>\n",
              "      <th>Gecmis_police</th>\n",
              "      <th>Hasar_durumu</th>\n",
              "      <th>Yillik_prim</th>\n",
              "      <th>Acenta_no</th>\n",
              "      <th>Sure</th>\n",
              "      <th>Sonuc</th>\n",
              "      <th>Yas2</th>\n",
              "      <th>Arac_yasi_2-5 Yil</th>\n",
              "      <th>Arac_yasi_5-10 Yil</th>\n",
              "      <th>Arac_yasi_&lt; 1 Yil</th>\n",
              "      <th>Arac_yasi_&gt; 10 Yil</th>\n",
              "    </tr>\n",
              "  </thead>\n",
              "  <tbody>\n",
              "    <tr>\n",
              "      <th>0</th>\n",
              "      <td>301236</td>\n",
              "      <td>0</td>\n",
              "      <td>1</td>\n",
              "      <td>Diger</td>\n",
              "      <td>0</td>\n",
              "      <td>1</td>\n",
              "      <td>2960.00</td>\n",
              "      <td>147</td>\n",
              "      <td>131</td>\n",
              "      <td>0</td>\n",
              "      <td>36</td>\n",
              "      <td>0</td>\n",
              "      <td>0</td>\n",
              "      <td>0</td>\n",
              "      <td>0</td>\n",
              "    </tr>\n",
              "    <tr>\n",
              "      <th>1</th>\n",
              "      <td>360545</td>\n",
              "      <td>0</td>\n",
              "      <td>1</td>\n",
              "      <td>Diger</td>\n",
              "      <td>1</td>\n",
              "      <td>0</td>\n",
              "      <td>3081.78</td>\n",
              "      <td>177</td>\n",
              "      <td>213</td>\n",
              "      <td>0</td>\n",
              "      <td>31</td>\n",
              "      <td>0</td>\n",
              "      <td>0</td>\n",
              "      <td>1</td>\n",
              "      <td>0</td>\n",
              "    </tr>\n",
              "    <tr>\n",
              "      <th>2</th>\n",
              "      <td>124745</td>\n",
              "      <td>0</td>\n",
              "      <td>1</td>\n",
              "      <td>Kocaeli</td>\n",
              "      <td>0</td>\n",
              "      <td>1</td>\n",
              "      <td>3672.67</td>\n",
              "      <td>177</td>\n",
              "      <td>72</td>\n",
              "      <td>0</td>\n",
              "      <td>31</td>\n",
              "      <td>0</td>\n",
              "      <td>0</td>\n",
              "      <td>1</td>\n",
              "      <td>0</td>\n",
              "    </tr>\n",
              "    <tr>\n",
              "      <th>3</th>\n",
              "      <td>72320</td>\n",
              "      <td>0</td>\n",
              "      <td>1</td>\n",
              "      <td>Izmir</td>\n",
              "      <td>1</td>\n",
              "      <td>0</td>\n",
              "      <td>3599.89</td>\n",
              "      <td>177</td>\n",
              "      <td>117</td>\n",
              "      <td>0</td>\n",
              "      <td>26</td>\n",
              "      <td>0</td>\n",
              "      <td>0</td>\n",
              "      <td>1</td>\n",
              "      <td>0</td>\n",
              "    </tr>\n",
              "    <tr>\n",
              "      <th>4</th>\n",
              "      <td>226178</td>\n",
              "      <td>0</td>\n",
              "      <td>1</td>\n",
              "      <td>Kocaeli</td>\n",
              "      <td>0</td>\n",
              "      <td>1</td>\n",
              "      <td>3697.22</td>\n",
              "      <td>177</td>\n",
              "      <td>177</td>\n",
              "      <td>0</td>\n",
              "      <td>23</td>\n",
              "      <td>0</td>\n",
              "      <td>0</td>\n",
              "      <td>1</td>\n",
              "      <td>0</td>\n",
              "    </tr>\n",
              "  </tbody>\n",
              "</table>\n",
              "</div>"
            ],
            "text/plain": [
              "   Musteri_no  Cinsiyet  ...  Arac_yasi_< 1 Yil Arac_yasi_> 10 Yil\n",
              "0      301236         0  ...                  0                  0\n",
              "1      360545         0  ...                  1                  0\n",
              "2      124745         0  ...                  1                  0\n",
              "3       72320         0  ...                  1                  0\n",
              "4      226178         0  ...                  1                  0\n",
              "\n",
              "[5 rows x 15 columns]"
            ]
          },
          "metadata": {
            "tags": []
          },
          "execution_count": 30
        }
      ]
    },
    {
      "cell_type": "code",
      "metadata": {
        "colab": {
          "base_uri": "https://localhost:8080/",
          "height": 343
        },
        "id": "dQPAThdMZnwq",
        "outputId": "0982dfcf-e387-457d-c5ca-60693b0c92b2"
      },
      "source": [
        "df_dum=df_train.groupby(['Sehir','Sonuc'])['Musteri_no'].count().to_frame().rename(columns={'Musteri_no':'count'}).reset_index()\n",
        "df_dum.sort_values(by=\"count\",ascending=False).head(10)"
      ],
      "execution_count": 31,
      "outputs": [
        {
          "output_type": "execute_result",
          "data": {
            "text/html": [
              "<div>\n",
              "<style scoped>\n",
              "    .dataframe tbody tr th:only-of-type {\n",
              "        vertical-align: middle;\n",
              "    }\n",
              "\n",
              "    .dataframe tbody tr th {\n",
              "        vertical-align: top;\n",
              "    }\n",
              "\n",
              "    .dataframe thead th {\n",
              "        text-align: right;\n",
              "    }\n",
              "</style>\n",
              "<table border=\"1\" class=\"dataframe\">\n",
              "  <thead>\n",
              "    <tr style=\"text-align: right;\">\n",
              "      <th></th>\n",
              "      <th>Sehir</th>\n",
              "      <th>Sonuc</th>\n",
              "      <th>count</th>\n",
              "    </tr>\n",
              "  </thead>\n",
              "  <tbody>\n",
              "    <tr>\n",
              "      <th>48</th>\n",
              "      <td>Istanbul</td>\n",
              "      <td>0</td>\n",
              "      <td>63052</td>\n",
              "    </tr>\n",
              "    <tr>\n",
              "      <th>10</th>\n",
              "      <td>Ankara</td>\n",
              "      <td>0</td>\n",
              "      <td>21716</td>\n",
              "    </tr>\n",
              "    <tr>\n",
              "      <th>49</th>\n",
              "      <td>Istanbul</td>\n",
              "      <td>1</td>\n",
              "      <td>14709</td>\n",
              "    </tr>\n",
              "    <tr>\n",
              "      <th>50</th>\n",
              "      <td>Izmir</td>\n",
              "      <td>0</td>\n",
              "      <td>12271</td>\n",
              "    </tr>\n",
              "    <tr>\n",
              "      <th>20</th>\n",
              "      <td>Bursa</td>\n",
              "      <td>0</td>\n",
              "      <td>11367</td>\n",
              "    </tr>\n",
              "    <tr>\n",
              "      <th>56</th>\n",
              "      <td>Kocaeli</td>\n",
              "      <td>0</td>\n",
              "      <td>8405</td>\n",
              "    </tr>\n",
              "    <tr>\n",
              "      <th>12</th>\n",
              "      <td>Antalya</td>\n",
              "      <td>0</td>\n",
              "      <td>7707</td>\n",
              "    </tr>\n",
              "    <tr>\n",
              "      <th>40</th>\n",
              "      <td>Gaziantep</td>\n",
              "      <td>0</td>\n",
              "      <td>6781</td>\n",
              "    </tr>\n",
              "    <tr>\n",
              "      <th>0</th>\n",
              "      <td>Adana</td>\n",
              "      <td>0</td>\n",
              "      <td>6558</td>\n",
              "    </tr>\n",
              "    <tr>\n",
              "      <th>58</th>\n",
              "      <td>Konya</td>\n",
              "      <td>0</td>\n",
              "      <td>5610</td>\n",
              "    </tr>\n",
              "  </tbody>\n",
              "</table>\n",
              "</div>"
            ],
            "text/plain": [
              "        Sehir  Sonuc  count\n",
              "48   Istanbul      0  63052\n",
              "10     Ankara      0  21716\n",
              "49   Istanbul      1  14709\n",
              "50      Izmir      0  12271\n",
              "20      Bursa      0  11367\n",
              "56    Kocaeli      0   8405\n",
              "12    Antalya      0   7707\n",
              "40  Gaziantep      0   6781\n",
              "0       Adana      0   6558\n",
              "58      Konya      0   5610"
            ]
          },
          "metadata": {
            "tags": []
          },
          "execution_count": 31
        }
      ]
    },
    {
      "cell_type": "code",
      "metadata": {
        "id": "lcXasYtLajMS"
      },
      "source": [
        "cols_to_transform = ['Sehir'] # make a list if more than one column\n",
        "df_train3 = pd.get_dummies(df_train2, columns = cols_to_transform, drop_first=True)"
      ],
      "execution_count": 32,
      "outputs": []
    },
    {
      "cell_type": "code",
      "metadata": {
        "colab": {
          "base_uri": "https://localhost:8080/",
          "height": 232
        },
        "id": "m0lKnNC8fKSg",
        "outputId": "59399b3b-206f-4519-ff96-3ad2f07915ba"
      },
      "source": [
        "df_train3.head()"
      ],
      "execution_count": 33,
      "outputs": [
        {
          "output_type": "execute_result",
          "data": {
            "text/html": [
              "<div>\n",
              "<style scoped>\n",
              "    .dataframe tbody tr th:only-of-type {\n",
              "        vertical-align: middle;\n",
              "    }\n",
              "\n",
              "    .dataframe tbody tr th {\n",
              "        vertical-align: top;\n",
              "    }\n",
              "\n",
              "    .dataframe thead th {\n",
              "        text-align: right;\n",
              "    }\n",
              "</style>\n",
              "<table border=\"1\" class=\"dataframe\">\n",
              "  <thead>\n",
              "    <tr style=\"text-align: right;\">\n",
              "      <th></th>\n",
              "      <th>Musteri_no</th>\n",
              "      <th>Cinsiyet</th>\n",
              "      <th>Ehliyet</th>\n",
              "      <th>Gecmis_police</th>\n",
              "      <th>Hasar_durumu</th>\n",
              "      <th>Yillik_prim</th>\n",
              "      <th>Acenta_no</th>\n",
              "      <th>Sure</th>\n",
              "      <th>Sonuc</th>\n",
              "      <th>Yas2</th>\n",
              "      <th>Arac_yasi_2-5 Yil</th>\n",
              "      <th>Arac_yasi_5-10 Yil</th>\n",
              "      <th>Arac_yasi_&lt; 1 Yil</th>\n",
              "      <th>Arac_yasi_&gt; 10 Yil</th>\n",
              "      <th>Sehir_Bursa</th>\n",
              "      <th>Sehir_Diger</th>\n",
              "      <th>Sehir_Istanbul</th>\n",
              "      <th>Sehir_Izmir</th>\n",
              "      <th>Sehir_Kocaeli</th>\n",
              "    </tr>\n",
              "  </thead>\n",
              "  <tbody>\n",
              "    <tr>\n",
              "      <th>0</th>\n",
              "      <td>301236</td>\n",
              "      <td>0</td>\n",
              "      <td>1</td>\n",
              "      <td>0</td>\n",
              "      <td>1</td>\n",
              "      <td>2960.00</td>\n",
              "      <td>147</td>\n",
              "      <td>131</td>\n",
              "      <td>0</td>\n",
              "      <td>36</td>\n",
              "      <td>0</td>\n",
              "      <td>0</td>\n",
              "      <td>0</td>\n",
              "      <td>0</td>\n",
              "      <td>0</td>\n",
              "      <td>1</td>\n",
              "      <td>0</td>\n",
              "      <td>0</td>\n",
              "      <td>0</td>\n",
              "    </tr>\n",
              "    <tr>\n",
              "      <th>1</th>\n",
              "      <td>360545</td>\n",
              "      <td>0</td>\n",
              "      <td>1</td>\n",
              "      <td>1</td>\n",
              "      <td>0</td>\n",
              "      <td>3081.78</td>\n",
              "      <td>177</td>\n",
              "      <td>213</td>\n",
              "      <td>0</td>\n",
              "      <td>31</td>\n",
              "      <td>0</td>\n",
              "      <td>0</td>\n",
              "      <td>1</td>\n",
              "      <td>0</td>\n",
              "      <td>0</td>\n",
              "      <td>1</td>\n",
              "      <td>0</td>\n",
              "      <td>0</td>\n",
              "      <td>0</td>\n",
              "    </tr>\n",
              "    <tr>\n",
              "      <th>2</th>\n",
              "      <td>124745</td>\n",
              "      <td>0</td>\n",
              "      <td>1</td>\n",
              "      <td>0</td>\n",
              "      <td>1</td>\n",
              "      <td>3672.67</td>\n",
              "      <td>177</td>\n",
              "      <td>72</td>\n",
              "      <td>0</td>\n",
              "      <td>31</td>\n",
              "      <td>0</td>\n",
              "      <td>0</td>\n",
              "      <td>1</td>\n",
              "      <td>0</td>\n",
              "      <td>0</td>\n",
              "      <td>0</td>\n",
              "      <td>0</td>\n",
              "      <td>0</td>\n",
              "      <td>1</td>\n",
              "    </tr>\n",
              "    <tr>\n",
              "      <th>3</th>\n",
              "      <td>72320</td>\n",
              "      <td>0</td>\n",
              "      <td>1</td>\n",
              "      <td>1</td>\n",
              "      <td>0</td>\n",
              "      <td>3599.89</td>\n",
              "      <td>177</td>\n",
              "      <td>117</td>\n",
              "      <td>0</td>\n",
              "      <td>26</td>\n",
              "      <td>0</td>\n",
              "      <td>0</td>\n",
              "      <td>1</td>\n",
              "      <td>0</td>\n",
              "      <td>0</td>\n",
              "      <td>0</td>\n",
              "      <td>0</td>\n",
              "      <td>1</td>\n",
              "      <td>0</td>\n",
              "    </tr>\n",
              "    <tr>\n",
              "      <th>4</th>\n",
              "      <td>226178</td>\n",
              "      <td>0</td>\n",
              "      <td>1</td>\n",
              "      <td>0</td>\n",
              "      <td>1</td>\n",
              "      <td>3697.22</td>\n",
              "      <td>177</td>\n",
              "      <td>177</td>\n",
              "      <td>0</td>\n",
              "      <td>23</td>\n",
              "      <td>0</td>\n",
              "      <td>0</td>\n",
              "      <td>1</td>\n",
              "      <td>0</td>\n",
              "      <td>0</td>\n",
              "      <td>0</td>\n",
              "      <td>0</td>\n",
              "      <td>0</td>\n",
              "      <td>1</td>\n",
              "    </tr>\n",
              "  </tbody>\n",
              "</table>\n",
              "</div>"
            ],
            "text/plain": [
              "   Musteri_no  Cinsiyet  Ehliyet  ...  Sehir_Istanbul  Sehir_Izmir  Sehir_Kocaeli\n",
              "0      301236         0        1  ...               0            0              0\n",
              "1      360545         0        1  ...               0            0              0\n",
              "2      124745         0        1  ...               0            0              1\n",
              "3       72320         0        1  ...               0            1              0\n",
              "4      226178         0        1  ...               0            0              1\n",
              "\n",
              "[5 rows x 19 columns]"
            ]
          },
          "metadata": {
            "tags": []
          },
          "execution_count": 33
        }
      ]
    },
    {
      "cell_type": "code",
      "metadata": {
        "id": "kpgRFZmtfLrH"
      },
      "source": [
        "df_train3.drop(['Musteri_no'], inplace=True, axis=1)"
      ],
      "execution_count": 34,
      "outputs": []
    },
    {
      "cell_type": "code",
      "metadata": {
        "colab": {
          "base_uri": "https://localhost:8080/",
          "height": 810
        },
        "id": "PgIUNpfpfl4X",
        "outputId": "01d5a19f-facc-404a-f317-96179a7218e3"
      },
      "source": [
        "# Correlation table\n",
        "sns.set(font_scale = 1.25)\n",
        "correlation_matrix = df_train3.corr()\n",
        "plt.figure(figsize=(13,13))\n",
        "ax = sns.heatmap(correlation_matrix, vmax=1, cbar=True, square=True, annot=True, fmt='.2f', \n",
        "                 annot_kws={'size': 12}, cmap='coolwarm')\n",
        "ax.xaxis.set_ticks_position('top')\n",
        "plt.yticks(rotation=0)\n",
        "plt.xticks(rotation=90)\n",
        "plt.show()"
      ],
      "execution_count": 35,
      "outputs": [
        {
          "output_type": "display_data",
          "data": {
            "image/png": "[encoded data removed]",
            "text/plain": [
              "<Figure size 936x936 with 2 Axes>"
            ]
          },
          "metadata": {
            "tags": []
          }
        }
      ]
    },
    {
      "cell_type": "code",
      "metadata": {
        "colab": {
          "base_uri": "https://localhost:8080/"
        },
        "id": "-X2RUxZjftEH",
        "outputId": "2ee302da-1733-4524-d623-40b0b32c1ae7"
      },
      "source": [
        "df_train3.info()"
      ],
      "execution_count": 36,
      "outputs": [
        {
          "output_type": "stream",
          "text": [
            "<class 'pandas.core.frame.DataFrame'>\n",
            "RangeIndex: 254687 entries, 0 to 254686\n",
            "Data columns (total 18 columns):\n",
            " #   Column              Non-Null Count   Dtype  \n",
            "---  ------              --------------   -----  \n",
            " 0   Cinsiyet            254687 non-null  int64  \n",
            " 1   Ehliyet             254687 non-null  int64  \n",
            " 2   Gecmis_police       254687 non-null  int64  \n",
            " 3   Hasar_durumu        254687 non-null  int64  \n",
            " 4   Yillik_prim         254687 non-null  float64\n",
            " 5   Acenta_no           254687 non-null  int64  \n",
            " 6   Sure                254687 non-null  int64  \n",
            " 7   Sonuc               254687 non-null  int64  \n",
            " 8   Yas2                254687 non-null  int64  \n",
            " 9   Arac_yasi_2-5 Yil   254687 non-null  uint8  \n",
            " 10  Arac_yasi_5-10 Yil  254687 non-null  uint8  \n",
            " 11  Arac_yasi_< 1 Yil   254687 non-null  uint8  \n",
            " 12  Arac_yasi_> 10 Yil  254687 non-null  uint8  \n",
            " 13  Sehir_Bursa         254687 non-null  uint8  \n",
            " 14  Sehir_Diger         254687 non-null  uint8  \n",
            " 15  Sehir_Istanbul      254687 non-null  uint8  \n",
            " 16  Sehir_Izmir         254687 non-null  uint8  \n",
            " 17  Sehir_Kocaeli       254687 non-null  uint8  \n",
            "dtypes: float64(1), int64(8), uint8(9)\n",
            "memory usage: 19.7 MB\n"
          ],
          "name": "stdout"
        }
      ]
    },
    {
      "cell_type": "code",
      "metadata": {
        "id": "7OfxoKDqf_5X"
      },
      "source": [
        "df_train3.Cinsiyet = df_train3.Cinsiyet.astype('category')\n",
        "df_train3.Ehliyet = df_train3.Ehliyet.astype('category')\n",
        "df_train3.Gecmis_police = df_train3.Gecmis_police.astype('category')\n",
        "df_train3.Hasar_durumu = df_train3.Hasar_durumu.astype('category')\n",
        "df_train3[\"Arac_yasi_2-5 Yil\"] = df_train3[\"Arac_yasi_2-5 Yil\"].astype('category')\n",
        "df_train3[\"Arac_yasi_5-10 Yil\"] = df_train3[\"Arac_yasi_5-10 Yil\"].astype('category')\n",
        "df_train3[\"Arac_yasi_> 10 Yil\"] = df_train3[\"Arac_yasi_> 10 Yil\"].astype('category')\n",
        "df_train3.Sehir_Bursa = df_train3.Sehir_Bursa.astype('category')\n",
        "df_train3.Sehir_Diger = df_train3.Sehir_Diger.astype('category')\n",
        "df_train3.Sehir_Istanbul = df_train3.Sehir_Istanbul.astype('category')\n",
        "df_train3.Sehir_Izmir = df_train3.Sehir_Izmir.astype('category')\n",
        "df_train3.Sehir_Kocaeli = df_train3.Sehir_Kocaeli.astype('category')"
      ],
      "execution_count": 37,
      "outputs": []
    },
    {
      "cell_type": "code",
      "metadata": {
        "id": "fhk90iK-hJwz"
      },
      "source": [
        "df_train3[\"Arac_yasi_< 1 Yil\"] = df_train3[\"Arac_yasi_< 1 Yil\"].astype('category')"
      ],
      "execution_count": 38,
      "outputs": []
    },
    {
      "cell_type": "code",
      "metadata": {
        "id": "6QI3atBrlEl7"
      },
      "source": [
        "df_train3[\"Acenta_no\"] = df_train3[\"Acenta_no\"].astype('category')"
      ],
      "execution_count": 40,
      "outputs": []
    },
    {
      "cell_type": "code",
      "metadata": {
        "colab": {
          "base_uri": "https://localhost:8080/"
        },
        "id": "ZNosCi_7hDuk",
        "outputId": "9872758e-ed94-4373-9edb-d9153cdc594a"
      },
      "source": [
        "df_train3.info()"
      ],
      "execution_count": 41,
      "outputs": [
        {
          "output_type": "stream",
          "text": [
            "<class 'pandas.core.frame.DataFrame'>\n",
            "RangeIndex: 254687 entries, 0 to 254686\n",
            "Data columns (total 18 columns):\n",
            " #   Column              Non-Null Count   Dtype   \n",
            "---  ------              --------------   -----   \n",
            " 0   Cinsiyet            254687 non-null  category\n",
            " 1   Ehliyet             254687 non-null  category\n",
            " 2   Gecmis_police       254687 non-null  category\n",
            " 3   Hasar_durumu        254687 non-null  category\n",
            " 4   Yillik_prim         254687 non-null  float64 \n",
            " 5   Acenta_no           254687 non-null  category\n",
            " 6   Sure                254687 non-null  int64   \n",
            " 7   Sonuc               254687 non-null  int64   \n",
            " 8   Yas2                254687 non-null  int64   \n",
            " 9   Arac_yasi_2-5 Yil   254687 non-null  category\n",
            " 10  Arac_yasi_5-10 Yil  254687 non-null  category\n",
            " 11  Arac_yasi_< 1 Yil   254687 non-null  category\n",
            " 12  Arac_yasi_> 10 Yil  254687 non-null  category\n",
            " 13  Sehir_Bursa         254687 non-null  category\n",
            " 14  Sehir_Diger         254687 non-null  category\n",
            " 15  Sehir_Istanbul      254687 non-null  category\n",
            " 16  Sehir_Izmir         254687 non-null  category\n",
            " 17  Sehir_Kocaeli       254687 non-null  category\n",
            "dtypes: category(14), float64(1), int64(3)\n",
            "memory usage: 11.4 MB\n"
          ],
          "name": "stdout"
        }
      ]
    },
    {
      "cell_type": "markdown",
      "metadata": {
        "id": "R_9OoNSfhVzl"
      },
      "source": [
        "# Logistic Regression"
      ]
    },
    {
      "cell_type": "code",
      "metadata": {
        "id": "RvgnBEtehEIN"
      },
      "source": [
        "seed = 40 # for reproducibility\n",
        "train, test = model_selection.train_test_split(df_train3, test_size=0.30, random_state=seed, stratify=df_train3['Sonuc'])"
      ],
      "execution_count": 42,
      "outputs": []
    },
    {
      "cell_type": "code",
      "metadata": {
        "colab": {
          "base_uri": "https://localhost:8080/"
        },
        "id": "Gpia49aWhjA4",
        "outputId": "7e6fdd11-ef2c-45c8-d678-d12648173f29"
      },
      "source": [
        "y_train = train['Sonuc']\n",
        "X_train = train.drop('Sonuc', axis=1)\n",
        "y_test = test['Sonuc']\n",
        "X_test = test.drop('Sonuc', axis=1)\n",
        "print('X_train and y_train:', X_train.shape, y_train.shape)\n",
        "print('X_test and y_test  :', X_test.shape, y_test.shape)"
      ],
      "execution_count": 43,
      "outputs": [
        {
          "output_type": "stream",
          "text": [
            "X_train and y_train: (178280, 17) (178280,)\n",
            "X_test and y_test  : (76407, 17) (76407,)\n"
          ],
          "name": "stdout"
        }
      ]
    },
    {
      "cell_type": "code",
      "metadata": {
        "id": "Lua78dKRhuEA"
      },
      "source": [
        "# define the transformer for numerical variables\n",
        "num_transformer = Pipeline(steps=[('scaler', StandardScaler())\n",
        "                                 ])\n",
        "\n",
        "# list of numerical features in the data set\n",
        "num_attrs = X_train.columns[X_train.dtypes != 'category'].tolist()\n",
        "\n",
        "# define the preprocessor to scale numerical variables and leave categorical ones untouched\n",
        "preprocessor = ColumnTransformer(transformers=[('num', num_transformer, num_attrs)],\n",
        "                                 remainder = 'passthrough') # let anything non-numerical pass through"
      ],
      "execution_count": 44,
      "outputs": []
    },
    {
      "cell_type": "code",
      "metadata": {
        "id": "Vt69NBmyh7RP"
      },
      "source": [
        "pipeline = Pipeline(steps=[('preprocessor', preprocessor),\n",
        "                           ('classifier',   LogisticRegression(random_state=seed))])\n",
        "\n",
        "params = [{'classifier__C'      : [0.2,0.3,0.4], \n",
        "           'classifier__penalty': ['l1'], \n",
        "           'classifier__solver' : ['liblinear', 'saga']},\n",
        "          \n",
        "          {'classifier__C'      : [0.2,0.3,0.4], \n",
        "           'classifier__penalty': ['l2'], \n",
        "           'classifier__solver' : ['liblinear', 'newton-cg', 'lbfgs', 'sag', 'saga']}\n",
        "         ]\n",
        "\n",
        "kfold = StratifiedKFold(n_splits = 5, random_state = seed) # train/validation with the same ratio of classes\n",
        "grid = GridSearchCV(pipeline, param_grid = params, cv = kfold, verbose = 1, n_jobs = -1,scoring=\"roc_auc\")"
      ],
      "execution_count": 62,
      "outputs": []
    },
    {
      "cell_type": "code",
      "metadata": {
        "colab": {
          "base_uri": "https://localhost:8080/"
        },
        "id": "EpI7IXjNiZju",
        "outputId": "2a16124f-443a-4dca-a613-14f57b1dcd61"
      },
      "source": [
        "grid.fit(X_train, y_train)\n",
        "print(grid.best_estimator_,'\\n')"
      ],
      "execution_count": 63,
      "outputs": [
        {
          "output_type": "stream",
          "text": [
            "Fitting 5 folds for each of 21 candidates, totalling 105 fits\n"
          ],
          "name": "stdout"
        },
        {
          "output_type": "stream",
          "text": [
            "[Parallel(n_jobs=-1)]: Using backend LokyBackend with 2 concurrent workers.\n",
            "[Parallel(n_jobs=-1)]: Done  46 tasks      | elapsed:  2.5min\n",
            "[Parallel(n_jobs=-1)]: Done 105 out of 105 | elapsed:  5.5min finished\n"
          ],
          "name": "stderr"
        },
        {
          "output_type": "stream",
          "text": [
            "Pipeline(memory=None,\n",
            "         steps=[('preprocessor',\n",
            "                 ColumnTransformer(n_jobs=None, remainder='passthrough',\n",
            "                                   sparse_threshold=0.3,\n",
            "                                   transformer_weights=None,\n",
            "                                   transformers=[('num',\n",
            "                                                  Pipeline(memory=None,\n",
            "                                                           steps=[('scaler',\n",
            "                                                                   StandardScaler(copy=True,\n",
            "                                                                                  with_mean=True,\n",
            "                                                                                  with_std=True))],\n",
            "                                                           verbose=False),\n",
            "                                                  ['Yillik_prim', 'Sure',\n",
            "                                                   'Yas2'])],\n",
            "                                   verbose=False)),\n",
            "                ('classifier',\n",
            "                 LogisticRegression(C=0.4, class_weight=None, dual=False,\n",
            "                                    fit_intercept=True, intercept_scaling=1,\n",
            "                                    l1_ratio=None, max_iter=100,\n",
            "                                    multi_class='auto', n_jobs=None,\n",
            "                                    penalty='l2', random_state=40,\n",
            "                                    solver='newton-cg', tol=0.0001, verbose=0,\n",
            "                                    warm_start=False))],\n",
            "         verbose=False) \n",
            "\n"
          ],
          "name": "stdout"
        }
      ]
    },
    {
      "cell_type": "code",
      "metadata": {
        "colab": {
          "base_uri": "https://localhost:8080/"
        },
        "id": "7BdCWHDVngkw",
        "outputId": "b8b279a2-1537-4bf1-b666-2724d10b6f84"
      },
      "source": [
        "print('Best parameters  :', grid.best_params_)\n",
        "print('\\nTraining roc_auc:', grid.score(X_train, y_train))\n",
        "print('Test roc_auc    :', grid.score(X_test, y_test))\n",
        "#print('roc_auc -test    :', roc_auc_score(y_test, grid.decision_function(X_test), average=None))\n",
        "#print('roc_auc -train    :', roc_auc_score(y_train, grid.decision_function(X_train), average=None))"
      ],
      "execution_count": 64,
      "outputs": [
        {
          "output_type": "stream",
          "text": [
            "Best parameters  : {'classifier__C': 0.4, 'classifier__penalty': 'l2', 'classifier__solver': 'newton-cg'}\n",
            "\n",
            "Training roc_auc: 0.8471710237515409\n",
            "Test roc_auc    : 0.845747504615852\n"
          ],
          "name": "stdout"
        }
      ]
    },
    {
      "cell_type": "markdown",
      "metadata": {
        "id": "MBMu-3IEPfiO"
      },
      "source": [
        "I will try to balance the unbalanced dataset for a better result."
      ]
    },
    {
      "cell_type": "markdown",
      "metadata": {
        "id": "pZzoNW9cukK3"
      },
      "source": [
        "I increased the size of the minority class to balance the dataset with SMOTENN "
      ]
    },
    {
      "cell_type": "code",
      "metadata": {
        "id": "A64RNKY8qz9M"
      },
      "source": [
        "#SMOTENN \n",
        "from imblearn.combine import SMOTEENN\n",
        "from imblearn.under_sampling import EditedNearestNeighbours\n",
        "from imblearn.pipeline import Pipeline as pipe_imb\n",
        "\n",
        "pipeline_SMOT = pipe_imb(steps=[('preprocessor', preprocessor),\n",
        "                           ('sampler', SMOTEENN(enn=EditedNearestNeighbours(), random_state=seed)),\n",
        "                           ('classifier',   LogisticRegression(random_state=seed))])\n",
        "\n",
        "params = [{'classifier__C'      : [0.4,0.5,0.6], \n",
        "           'classifier__penalty': ['l2'], \n",
        "           'classifier__solver' : ['newton-cg'],\n",
        "           'sampler__sampling_strategy': [0.6, 0.7, 0.8, 1.0]} ]\n",
        "\n",
        "kfold = StratifiedKFold(n_splits = 5, random_state = seed) # train/validation with the same ratio of classes\n",
        "grid_smote = GridSearchCV(pipeline_SMOT, param_grid = params, cv = kfold, verbose = 1, n_jobs = -1,scoring=\"roc_auc\")"
      ],
      "execution_count": 68,
      "outputs": []
    },
    {
      "cell_type": "code",
      "metadata": {
        "id": "FiJ1BJgtrRpq"
      },
      "source": [
        "#I had to stop it because the runtime exceeded 20 minutes.\n",
        "grid_smote.fit(X_train, y_train)\n",
        "print(grid_smote.best_estimator_,'\\n')\n",
        "print('Best parameters  :', grid_smote.best_params_)\n",
        "print('\\nTraining roc_auc:', grid_smote.score(X_train, y_train))\n",
        "print('Test roc_auc    :', grid_smote.score(X_test, y_test))"
      ],
      "execution_count": null,
      "outputs": []
    },
    {
      "cell_type": "markdown",
      "metadata": {
        "id": "HLxGWVmrPwyZ"
      },
      "source": [
        "# **Ensemble Models with DEfault Parameter**"
      ]
    },
    {
      "cell_type": "code",
      "metadata": {
        "id": "UPhag7zLz4ef"
      },
      "source": [
        "#XGBoost did not work features which has \"category\" type. Therefore I change type\n",
        "df_train4=df_train3.copy()\n",
        "df_train4.Cinsiyet = df_train4.Cinsiyet.astype('int')\n",
        "df_train4.Ehliyet = df_train4.Ehliyet.astype('int')\n",
        "df_train4.Gecmis_police = df_train4.Gecmis_police.astype('int')\n",
        "df_train4.Hasar_durumu = df_train4.Hasar_durumu.astype('int')\n",
        "df_train4[\"Arac_yasi_2-5 Yil\"] = df_train4[\"Arac_yasi_2-5 Yil\"].astype('int')\n",
        "df_train4[\"Arac_yasi_5-10 Yil\"] = df_train4[\"Arac_yasi_5-10 Yil\"].astype('int')\n",
        "df_train4[\"Arac_yasi_> 10 Yil\"] = df_train4[\"Arac_yasi_> 10 Yil\"].astype('int')\n",
        "df_train4.Sehir_Bursa = df_train4.Sehir_Bursa.astype('int')\n",
        "df_train4.Sehir_Diger = df_train4.Sehir_Diger.astype('int')\n",
        "df_train4.Sehir_Istanbul = df_train4.Sehir_Istanbul.astype('int')\n",
        "df_train4.Sehir_Izmir = df_train4.Sehir_Izmir.astype('int')\n",
        "df_train4.Sehir_Kocaeli = df_train4.Sehir_Kocaeli.astype('int')\n",
        "df_train4[\"Arac_yasi_< 1 Yil\"] = df_train4[\"Arac_yasi_< 1 Yil\"].astype('int')\n",
        "df_train4[\"Acenta_no\"] = df_train4[\"Acenta_no\"].astype('int')"
      ],
      "execution_count": 185,
      "outputs": []
    },
    {
      "cell_type": "code",
      "metadata": {
        "id": "EZ8ba4eU2CKQ"
      },
      "source": [
        "df_train4.rename(columns={'Arac_yasi_< 1 Yil':'Arac_yasi_1','Arac_yasi_2-5 Yil':'Arac_yasi_2' , 'Arac_yasi_5-10 Yil':'Arac_yasi_3','Arac_yasi_> 10 Yil':'Arac_yasi_4'}, inplace=True)"
      ],
      "execution_count": 186,
      "outputs": []
    },
    {
      "cell_type": "code",
      "metadata": {
        "colab": {
          "base_uri": "https://localhost:8080/",
          "height": 215
        },
        "id": "JtjMGWRc04WA",
        "outputId": "55171774-8578-4f6a-9260-c90f7c8a1da2"
      },
      "source": [
        "#df_train4.drop(['Acenta_no'], inplace=True, axis=1)\n",
        "#df_train4['Acenta_no']=df_train3['Acenta_no']\n",
        "#df_train4[\"Acenta_no\"] = df_train4[\"Acenta_no\"].astype('int')\n",
        "df_train4.head()"
      ],
      "execution_count": 187,
      "outputs": [
        {
          "output_type": "execute_result",
          "data": {
            "text/html": [
              "<div>\n",
              "<style scoped>\n",
              "    .dataframe tbody tr th:only-of-type {\n",
              "        vertical-align: middle;\n",
              "    }\n",
              "\n",
              "    .dataframe tbody tr th {\n",
              "        vertical-align: top;\n",
              "    }\n",
              "\n",
              "    .dataframe thead th {\n",
              "        text-align: right;\n",
              "    }\n",
              "</style>\n",
              "<table border=\"1\" class=\"dataframe\">\n",
              "  <thead>\n",
              "    <tr style=\"text-align: right;\">\n",
              "      <th></th>\n",
              "      <th>Cinsiyet</th>\n",
              "      <th>Ehliyet</th>\n",
              "      <th>Gecmis_police</th>\n",
              "      <th>Hasar_durumu</th>\n",
              "      <th>Yillik_prim</th>\n",
              "      <th>Acenta_no</th>\n",
              "      <th>Sure</th>\n",
              "      <th>Sonuc</th>\n",
              "      <th>Yas2</th>\n",
              "      <th>Arac_yasi_2</th>\n",
              "      <th>Arac_yasi_3</th>\n",
              "      <th>Arac_yasi_1</th>\n",
              "      <th>Arac_yasi_4</th>\n",
              "      <th>Sehir_Bursa</th>\n",
              "      <th>Sehir_Diger</th>\n",
              "      <th>Sehir_Istanbul</th>\n",
              "      <th>Sehir_Izmir</th>\n",
              "      <th>Sehir_Kocaeli</th>\n",
              "    </tr>\n",
              "  </thead>\n",
              "  <tbody>\n",
              "    <tr>\n",
              "      <th>0</th>\n",
              "      <td>0</td>\n",
              "      <td>1</td>\n",
              "      <td>0</td>\n",
              "      <td>1</td>\n",
              "      <td>2960.00</td>\n",
              "      <td>147</td>\n",
              "      <td>131</td>\n",
              "      <td>0</td>\n",
              "      <td>36</td>\n",
              "      <td>0</td>\n",
              "      <td>0</td>\n",
              "      <td>0</td>\n",
              "      <td>0</td>\n",
              "      <td>0</td>\n",
              "      <td>1</td>\n",
              "      <td>0</td>\n",
              "      <td>0</td>\n",
              "      <td>0</td>\n",
              "    </tr>\n",
              "    <tr>\n",
              "      <th>1</th>\n",
              "      <td>0</td>\n",
              "      <td>1</td>\n",
              "      <td>1</td>\n",
              "      <td>0</td>\n",
              "      <td>3081.78</td>\n",
              "      <td>177</td>\n",
              "      <td>213</td>\n",
              "      <td>0</td>\n",
              "      <td>31</td>\n",
              "      <td>0</td>\n",
              "      <td>0</td>\n",
              "      <td>1</td>\n",
              "      <td>0</td>\n",
              "      <td>0</td>\n",
              "      <td>1</td>\n",
              "      <td>0</td>\n",
              "      <td>0</td>\n",
              "      <td>0</td>\n",
              "    </tr>\n",
              "    <tr>\n",
              "      <th>2</th>\n",
              "      <td>0</td>\n",
              "      <td>1</td>\n",
              "      <td>0</td>\n",
              "      <td>1</td>\n",
              "      <td>3672.67</td>\n",
              "      <td>177</td>\n",
              "      <td>72</td>\n",
              "      <td>0</td>\n",
              "      <td>31</td>\n",
              "      <td>0</td>\n",
              "      <td>0</td>\n",
              "      <td>1</td>\n",
              "      <td>0</td>\n",
              "      <td>0</td>\n",
              "      <td>0</td>\n",
              "      <td>0</td>\n",
              "      <td>0</td>\n",
              "      <td>1</td>\n",
              "    </tr>\n",
              "    <tr>\n",
              "      <th>3</th>\n",
              "      <td>0</td>\n",
              "      <td>1</td>\n",
              "      <td>1</td>\n",
              "      <td>0</td>\n",
              "      <td>3599.89</td>\n",
              "      <td>177</td>\n",
              "      <td>117</td>\n",
              "      <td>0</td>\n",
              "      <td>26</td>\n",
              "      <td>0</td>\n",
              "      <td>0</td>\n",
              "      <td>1</td>\n",
              "      <td>0</td>\n",
              "      <td>0</td>\n",
              "      <td>0</td>\n",
              "      <td>0</td>\n",
              "      <td>1</td>\n",
              "      <td>0</td>\n",
              "    </tr>\n",
              "    <tr>\n",
              "      <th>4</th>\n",
              "      <td>0</td>\n",
              "      <td>1</td>\n",
              "      <td>0</td>\n",
              "      <td>1</td>\n",
              "      <td>3697.22</td>\n",
              "      <td>177</td>\n",
              "      <td>177</td>\n",
              "      <td>0</td>\n",
              "      <td>23</td>\n",
              "      <td>0</td>\n",
              "      <td>0</td>\n",
              "      <td>1</td>\n",
              "      <td>0</td>\n",
              "      <td>0</td>\n",
              "      <td>0</td>\n",
              "      <td>0</td>\n",
              "      <td>0</td>\n",
              "      <td>1</td>\n",
              "    </tr>\n",
              "  </tbody>\n",
              "</table>\n",
              "</div>"
            ],
            "text/plain": [
              "   Cinsiyet  Ehliyet  Gecmis_police  ...  Sehir_Istanbul  Sehir_Izmir  Sehir_Kocaeli\n",
              "0         0        1              0  ...               0            0              0\n",
              "1         0        1              1  ...               0            0              0\n",
              "2         0        1              0  ...               0            0              1\n",
              "3         0        1              1  ...               0            1              0\n",
              "4         0        1              0  ...               0            0              1\n",
              "\n",
              "[5 rows x 18 columns]"
            ]
          },
          "metadata": {
            "tags": []
          },
          "execution_count": 187
        }
      ]
    },
    {
      "cell_type": "code",
      "metadata": {
        "colab": {
          "base_uri": "https://localhost:8080/"
        },
        "id": "6C90eZssbfmC",
        "outputId": "f179dfe2-91a3-4367-b749-66c28f73dba7"
      },
      "source": [
        "df_train4.info()"
      ],
      "execution_count": 188,
      "outputs": [
        {
          "output_type": "stream",
          "text": [
            "<class 'pandas.core.frame.DataFrame'>\n",
            "RangeIndex: 254687 entries, 0 to 254686\n",
            "Data columns (total 18 columns):\n",
            " #   Column          Non-Null Count   Dtype  \n",
            "---  ------          --------------   -----  \n",
            " 0   Cinsiyet        254687 non-null  int64  \n",
            " 1   Ehliyet         254687 non-null  int64  \n",
            " 2   Gecmis_police   254687 non-null  int64  \n",
            " 3   Hasar_durumu    254687 non-null  int64  \n",
            " 4   Yillik_prim     254687 non-null  float64\n",
            " 5   Acenta_no       254687 non-null  int64  \n",
            " 6   Sure            254687 non-null  int64  \n",
            " 7   Sonuc           254687 non-null  int64  \n",
            " 8   Yas2            254687 non-null  int64  \n",
            " 9   Arac_yasi_2     254687 non-null  int64  \n",
            " 10  Arac_yasi_3     254687 non-null  int64  \n",
            " 11  Arac_yasi_1     254687 non-null  int64  \n",
            " 12  Arac_yasi_4     254687 non-null  int64  \n",
            " 13  Sehir_Bursa     254687 non-null  int64  \n",
            " 14  Sehir_Diger     254687 non-null  int64  \n",
            " 15  Sehir_Istanbul  254687 non-null  int64  \n",
            " 16  Sehir_Izmir     254687 non-null  int64  \n",
            " 17  Sehir_Kocaeli   254687 non-null  int64  \n",
            "dtypes: float64(1), int64(17)\n",
            "memory usage: 35.0 MB\n"
          ],
          "name": "stdout"
        }
      ]
    },
    {
      "cell_type": "code",
      "metadata": {
        "id": "FP1qcmH80fJJ"
      },
      "source": [
        "seed = 40 # for reproducibility\n",
        "train, test = model_selection.train_test_split(df_train4, test_size=0.30, random_state=seed, stratify=df_train4['Sonuc'])"
      ],
      "execution_count": 189,
      "outputs": []
    },
    {
      "cell_type": "code",
      "metadata": {
        "colab": {
          "base_uri": "https://localhost:8080/"
        },
        "id": "s5yhL1oZ0iWm",
        "outputId": "cbd69185-3615-4142-a589-885a4a884150"
      },
      "source": [
        "y_train = train['Sonuc']\n",
        "X_train = train.drop('Sonuc', axis=1)\n",
        "y_test = test['Sonuc']\n",
        "X_test = test.drop('Sonuc', axis=1)\n",
        "print('X_train and y_train:', X_train.shape, y_train.shape)\n",
        "print('X_test and y_test  :', X_test.shape, y_test.shape)"
      ],
      "execution_count": 190,
      "outputs": [
        {
          "output_type": "stream",
          "text": [
            "X_train and y_train: (178280, 17) (178280,)\n",
            "X_test and y_test  : (76407, 17) (76407,)\n"
          ],
          "name": "stdout"
        }
      ]
    },
    {
      "cell_type": "code",
      "metadata": {
        "id": "PGJbPnderRDb"
      },
      "source": [
        "tree = DecisionTreeClassifier(random_state=seed)\n",
        "models = [\n",
        "    ['DecisionTree', DecisionTreeClassifier(random_state=seed)], \n",
        "    ['RandomForest', RandomForestClassifier(n_estimators=100, random_state=seed)], \n",
        "    ['ExtraTrees', ExtraTreesClassifier(n_estimators=100, random_state=seed)],\n",
        "    ['BaggingClassifier', BaggingClassifier(base_estimator=tree, n_estimators=100, random_state=seed)],\n",
        "    ['AdaBoost', AdaBoostClassifier(n_estimators=100, random_state=seed)], \n",
        "    ['GradientBoosting', GradientBoostingClassifier(random_state=seed)],\n",
        "    ['XGBoost', XGBClassifier(seed=seed)],\n",
        "    ]"
      ],
      "execution_count": 87,
      "outputs": []
    },
    {
      "cell_type": "code",
      "metadata": {
        "colab": {
          "base_uri": "https://localhost:8080/"
        },
        "id": "TMQSDRc_rW4e",
        "outputId": "9f43748d-a273-4475-db48-1f8db8e5da29"
      },
      "source": [
        "# Use the following classifiers with their defaults\n",
        "for abbrv, clf in models:\n",
        "    clf.fit(X_train, y_train)\n",
        "    y_pred = clf.predict(X_test)\n",
        "    print('%17s  %5.3f' % (abbrv,accuracy_score(y_test, y_pred)))"
      ],
      "execution_count": 88,
      "outputs": [
        {
          "output_type": "stream",
          "text": [
            "     DecisionTree  0.826\n",
            "     RandomForest  0.864\n",
            "       ExtraTrees  0.859\n",
            "BaggingClassifier  0.864\n",
            "         AdaBoost  0.878\n",
            " GradientBoosting  0.878\n",
            "          XGBoost  0.878\n"
          ],
          "name": "stdout"
        }
      ]
    },
    {
      "cell_type": "markdown",
      "metadata": {
        "id": "ML0agHZhQbuk"
      },
      "source": [
        "adaboost, GradientBoosting  , XGBoost give the best result for accuracy "
      ]
    },
    {
      "cell_type": "markdown",
      "metadata": {
        "id": "Is_d33eLQt2V"
      },
      "source": [
        "# **XGBClassifier**"
      ]
    },
    {
      "cell_type": "code",
      "metadata": {
        "colab": {
          "base_uri": "https://localhost:8080/"
        },
        "id": "2SRAg_2ZsKjZ",
        "outputId": "671d5101-cd68-4f0f-f696-a5192a38ed8e"
      },
      "source": [
        "model = XGBClassifier(objective='binary:logistic', seed=seed)\n",
        "\n",
        "param_grid = {'learning_rate': [0.06, 0.07, 0.08],\n",
        "              'n_estimators' : [150,175, 200]}\n",
        "\n",
        "kfold = StratifiedKFold(n_splits = 5, random_state = seed) \n",
        "grid_search = GridSearchCV(model, param_grid, scoring=\"roc_auc\", n_jobs=-1, cv=kfold,verbose=1)\n",
        "\n",
        "grid_result = grid_search.fit(X_train, y_train)\n",
        "\n",
        "# summarize results\n",
        "print(); print(\"Best CV score: %f using %s\\n\" % (grid_result.best_score_, grid_result.best_params_))\n",
        "means = grid_result.cv_results_['mean_test_score']\n",
        "stds = grid_result.cv_results_['std_test_score']\n",
        "params = grid_result.cv_results_['params']\n",
        "for mean, stdev, param in zip(means, stds, params):\n",
        "    print(\"%f (%f) with: %r\" % (mean, stdev, param))"
      ],
      "execution_count": 92,
      "outputs": [
        {
          "output_type": "stream",
          "text": [
            "Fitting 5 folds for each of 9 candidates, totalling 45 fits\n"
          ],
          "name": "stdout"
        },
        {
          "output_type": "stream",
          "text": [
            "[Parallel(n_jobs=-1)]: Using backend LokyBackend with 2 concurrent workers.\n",
            "[Parallel(n_jobs=-1)]: Done  45 out of  45 | elapsed:  8.8min finished\n"
          ],
          "name": "stderr"
        },
        {
          "output_type": "stream",
          "text": [
            "\n",
            "Best CV score: 0.863717 using {'learning_rate': 0.08, 'n_estimators': 200}\n",
            "\n",
            "0.861990 (0.001358) with: {'learning_rate': 0.06, 'n_estimators': 150}\n",
            "0.862713 (0.001488) with: {'learning_rate': 0.06, 'n_estimators': 175}\n",
            "0.863217 (0.001535) with: {'learning_rate': 0.06, 'n_estimators': 200}\n",
            "0.862679 (0.001422) with: {'learning_rate': 0.07, 'n_estimators': 150}\n",
            "0.863239 (0.001542) with: {'learning_rate': 0.07, 'n_estimators': 175}\n",
            "0.863551 (0.001575) with: {'learning_rate': 0.07, 'n_estimators': 200}\n",
            "0.863172 (0.001512) with: {'learning_rate': 0.08, 'n_estimators': 150}\n",
            "0.863527 (0.001550) with: {'learning_rate': 0.08, 'n_estimators': 175}\n",
            "0.863717 (0.001621) with: {'learning_rate': 0.08, 'n_estimators': 200}\n"
          ],
          "name": "stdout"
        }
      ]
    },
    {
      "cell_type": "code",
      "metadata": {
        "colab": {
          "base_uri": "https://localhost:8080/"
        },
        "id": "AWkl_qFj8pRs",
        "outputId": "eb9f6b3d-89fc-4524-cef5-51864cbd108b"
      },
      "source": [
        "model = XGBClassifier(objective='binary:logistic', learning_rate=0.08, n_estimators=200, seed=seed)\n",
        "\n",
        "param_grid = {'max_depth'        : [4, 5, 6],\n",
        "              'min_child_weight' : [0.5, 1, 2]}\n",
        "\n",
        "kfold = StratifiedKFold(n_splits = 5, random_state = seed) \n",
        "grid_search = GridSearchCV(model, param_grid, scoring=\"roc_auc\", n_jobs=-1, cv=kfold,verbose=1)\n",
        "\n",
        "grid_result = grid_search.fit(X_train, y_train)\n",
        "\n",
        "# summarize results\n",
        "print(); print(\"Best CV score: %f using %s\\n\" % (grid_result.best_score_, grid_result.best_params_))"
      ],
      "execution_count": 95,
      "outputs": [
        {
          "output_type": "stream",
          "text": [
            "Fitting 5 folds for each of 9 candidates, totalling 45 fits\n"
          ],
          "name": "stdout"
        },
        {
          "output_type": "stream",
          "text": [
            "[Parallel(n_jobs=-1)]: Using backend LokyBackend with 2 concurrent workers.\n",
            "[Parallel(n_jobs=-1)]: Done  45 out of  45 | elapsed: 16.7min finished\n"
          ],
          "name": "stderr"
        },
        {
          "output_type": "stream",
          "text": [
            "\n",
            "Best CV score: 0.863864 using {'max_depth': 4, 'min_child_weight': 0.5}\n",
            "\n"
          ],
          "name": "stdout"
        }
      ]
    },
    {
      "cell_type": "code",
      "metadata": {
        "colab": {
          "base_uri": "https://localhost:8080/"
        },
        "id": "qSadc7dN9IZo",
        "outputId": "07a9dcb7-acdd-48c3-e9f7-110eaede13f9"
      },
      "source": [
        "model = XGBClassifier(objective='binary:logistic', learning_rate=0.1, n_estimators=150, max_depth=4,\n",
        "                      min_child_weight=0.5, seed=seed)\n",
        "\n",
        "param_grid = { 'gamma': [3,4,5] }\n",
        "\n",
        "kfold = StratifiedKFold(n_splits = 5, random_state = seed) \n",
        "grid_search = GridSearchCV(model, param_grid, scoring=\"roc_auc\", n_jobs=-1, cv=kfold,verbose=1)\n",
        "\n",
        "grid_result = grid_search.fit(X_train, y_train)\n",
        "\n",
        "# summarize results\n",
        "print(); print(\"Best CV score: %f using %s\\n\" % (grid_result.best_score_, grid_result.best_params_))"
      ],
      "execution_count": 97,
      "outputs": [
        {
          "output_type": "stream",
          "text": [
            "Fitting 5 folds for each of 3 candidates, totalling 15 fits\n"
          ],
          "name": "stdout"
        },
        {
          "output_type": "stream",
          "text": [
            "[Parallel(n_jobs=-1)]: Using backend LokyBackend with 2 concurrent workers.\n",
            "[Parallel(n_jobs=-1)]: Done  15 out of  15 | elapsed:  3.3min finished\n"
          ],
          "name": "stderr"
        },
        {
          "output_type": "stream",
          "text": [
            "\n",
            "Best CV score: 0.863871 using {'gamma': 3}\n",
            "\n"
          ],
          "name": "stdout"
        }
      ]
    },
    {
      "cell_type": "code",
      "metadata": {
        "colab": {
          "base_uri": "https://localhost:8080/"
        },
        "id": "KioZ2Xw49cjv",
        "outputId": "34bd302c-004a-4fb3-c632-74eb8673df6b"
      },
      "source": [
        "model = XGBClassifier(objective='binary:logistic', learning_rate=0.3, n_estimators=100, max_depth=4,\n",
        "                      min_child_weight=0.5, gamma=3, seed=seed)\n",
        "\n",
        "param_grid = {'subsample':[0.5, 0.75, 1.0],\n",
        "              'colsample_bytree':[0.5, 0.75, 1.0]}\n",
        "\n",
        "kfold = StratifiedKFold(n_splits = 5, random_state = seed) \n",
        "grid_search = GridSearchCV(model, param_grid, scoring=\"roc_auc\", n_jobs=-1, cv=kfold,verbose=1)\n",
        "\n",
        "grid_result = grid_search.fit(X_train, y_train)\n",
        "\n",
        "# summarize results\n",
        "print(); print(\"Best CV score: %f using %s\\n\" % (grid_result.best_score_, grid_result.best_params_))"
      ],
      "execution_count": 99,
      "outputs": [
        {
          "output_type": "stream",
          "text": [
            "Fitting 5 folds for each of 9 candidates, totalling 45 fits\n"
          ],
          "name": "stdout"
        },
        {
          "output_type": "stream",
          "text": [
            "[Parallel(n_jobs=-1)]: Using backend LokyBackend with 2 concurrent workers.\n",
            "[Parallel(n_jobs=-1)]: Done  45 out of  45 | elapsed:  5.8min finished\n"
          ],
          "name": "stderr"
        },
        {
          "output_type": "stream",
          "text": [
            "\n",
            "Best CV score: 0.863632 using {'colsample_bytree': 0.75, 'subsample': 1.0}\n",
            "\n"
          ],
          "name": "stdout"
        }
      ]
    },
    {
      "cell_type": "code",
      "metadata": {
        "colab": {
          "base_uri": "https://localhost:8080/"
        },
        "id": "aMFOMznt9l4R",
        "outputId": "7c3f88ef-6b13-4abd-fcff-feb0518602ea"
      },
      "source": [
        "model = XGBClassifier(objective='binary:logistic', learning_rate=0.4, n_estimators=100, max_depth=4,\n",
        "                      min_child_weight=0.5, gamma=3, subsample=1.0, colsample_bytree=0.75, seed=seed)\n",
        "\n",
        "param_grid = {'reg_alpha':[0, 1, 5],\n",
        "             'reg_lambda':[0, 1, 5]}\n",
        "\n",
        "kfold = StratifiedKFold(n_splits = 5, random_state = seed) \n",
        "grid_search = GridSearchCV(model, param_grid, scoring=\"roc_auc\", n_jobs=-1, cv=kfold,verbose=1)\n",
        "\n",
        "grid_result = grid_search.fit(X_train, y_train)\n",
        "\n",
        "# summarize results\n",
        "print(); print(\"Best CV score: %f using %s\\n\" % (grid_result.best_score_, grid_result.best_params_))"
      ],
      "execution_count": 100,
      "outputs": [
        {
          "output_type": "stream",
          "text": [
            "Fitting 5 folds for each of 9 candidates, totalling 45 fits\n"
          ],
          "name": "stdout"
        },
        {
          "output_type": "stream",
          "text": [
            "[Parallel(n_jobs=-1)]: Using backend LokyBackend with 2 concurrent workers.\n",
            "[Parallel(n_jobs=-1)]: Done  45 out of  45 | elapsed:  5.1min finished\n"
          ],
          "name": "stderr"
        },
        {
          "output_type": "stream",
          "text": [
            "\n",
            "Best CV score: 0.863813 using {'reg_alpha': 5, 'reg_lambda': 1}\n",
            "\n"
          ],
          "name": "stdout"
        }
      ]
    },
    {
      "cell_type": "code",
      "metadata": {
        "colab": {
          "base_uri": "https://localhost:8080/"
        },
        "id": "L_ua8Wf79y79",
        "outputId": "b7325c6c-a0ee-416f-fc11-179045b582a2"
      },
      "source": [
        "model = XGBClassifier(objective='binary:logistic', seed=seed)\n",
        "param_grid = {'learning_rate'   : [0.4],\n",
        "              'n_estimators':     [150],\n",
        "              'max_depth'       : [4],\n",
        "              'min_child_weight': [0],\n",
        "              'subsample'       : [1],\n",
        "              'colsample_bytree': [0.75],\n",
        "              'gamma'           : [3,],\n",
        "              'reg_alpha'       : [5],\n",
        "              'reg_lambda'      : [1]\n",
        "             }\n",
        "\n",
        "\n",
        "kfold = StratifiedKFold(n_splits = 5, random_state = seed) \n",
        "grid_search = GridSearchCV(model, param_grid, scoring=\"roc_auc\", n_jobs=-1, cv=kfold,verbose=1)\n",
        "grid_result = grid_search.fit(X_train, y_train)\n",
        "print(); print(\"Best CV score: %f using %s\\n\" % (grid_result.best_score_, grid_result.best_params_))\n",
        "#print('Best parameters  :', grid_search.best_params_)\n",
        "print('\\nTraining roc_auc:', grid_search.score(X_train, y_train))\n",
        "print('Test roc_auc    :', grid_search.score(X_test, y_test))"
      ],
      "execution_count": 191,
      "outputs": [
        {
          "output_type": "stream",
          "text": [
            "Fitting 5 folds for each of 1 candidates, totalling 5 fits\n"
          ],
          "name": "stdout"
        },
        {
          "output_type": "stream",
          "text": [
            "[Parallel(n_jobs=-1)]: Using backend LokyBackend with 2 concurrent workers.\n",
            "[Parallel(n_jobs=-1)]: Done   5 out of   5 | elapsed:   54.8s finished\n"
          ],
          "name": "stderr"
        },
        {
          "output_type": "stream",
          "text": [
            "\n",
            "Best CV score: 0.863813 using {'colsample_bytree': 0.75, 'gamma': 3, 'learning_rate': 0.4, 'max_depth': 4, 'min_child_weight': 0, 'n_estimators': 150, 'reg_alpha': 5, 'reg_lambda': 1, 'subsample': 1}\n",
            "\n",
            "\n",
            "Training roc_auc: 0.8712921891471826\n",
            "Test roc_auc    : 0.8627107895914714\n"
          ],
          "name": "stdout"
        }
      ]
    },
    {
      "cell_type": "code",
      "metadata": {
        "colab": {
          "base_uri": "https://localhost:8080/",
          "height": 318
        },
        "id": "WgP2AShscVE-",
        "outputId": "7d553569-745e-43b2-a653-4f002b5f22c1"
      },
      "source": [
        "from sklearn.metrics import f1_score, roc_auc_score,accuracy_score,confusion_matrix, precision_recall_curve, auc, roc_curve, recall_score, classification_report \n",
        "y_score = grid_search.predict_proba(X_test)[:,1]\n",
        "fpr, tpr, _ = roc_curve(y_test, y_score)\n",
        "\n",
        "plt.title('XGBoost ROC curve')\n",
        "plt.xlabel('FPR (Precision)')\n",
        "plt.ylabel('TPR (Recall)')\n",
        "\n",
        "plt.plot(fpr,tpr)\n",
        "plt.plot((0,1), ls='dashed',color='black')\n",
        "plt.show()\n",
        "print ('Area under curve (AUC): ', auc(fpr,tpr))"
      ],
      "execution_count": 165,
      "outputs": [
        {
          "output_type": "display_data",
          "data": {
            "image/png": "[encoded data removed]",
            "text/plain": [
              "<Figure size 432x288 with 1 Axes>"
            ]
          },
          "metadata": {
            "tags": []
          }
        },
        {
          "output_type": "stream",
          "text": [
            "Area under curve (AUC):  0.8629026222308742\n"
          ],
          "name": "stdout"
        }
      ]
    },
    {
      "cell_type": "markdown",
      "metadata": {
        "id": "hWRab-6EQ2oJ"
      },
      "source": [
        "# **GradientBoostingClassifier**"
      ]
    },
    {
      "cell_type": "code",
      "metadata": {
        "colab": {
          "base_uri": "https://localhost:8080/"
        },
        "id": "U_mJFTKvOdbK",
        "outputId": "3ad4c2b3-c5f3-470b-fc78-27f30288a0f7"
      },
      "source": [
        "params = {'learning_rate'    :[0.4], \n",
        "          'n_estimators'     :[100],\n",
        "          'max_depth'        :[ 4],\n",
        "          'min_samples_split':[150,200],\n",
        "          'min_samples_leaf' :[ 3],\n",
        "          'max_features'     :[2,3],\n",
        "          'subsample'        :[0.7,1]\n",
        "         }\n",
        "\n",
        "model = GradientBoostingClassifier(validation_fraction = 0.2, \n",
        "                                   n_iter_no_change = 10,     \n",
        "                                   tol = 0.01,                # tolerance for (early stopping) change in previous step\n",
        "                                   random_state = seed)\n",
        "kfold = StratifiedKFold(n_splits = 5, random_state = seed) \n",
        "gridSearchES = GridSearchCV(estimator = model, param_grid = params, scoring='roc_auc', n_jobs=-1, cv=kfold, verbose=1)\n",
        "\n",
        "gridSearchES.fit(X_train,y_train)\n",
        "print('Best parameters:', gridSearchES.best_params_)\n",
        "#print('Test accuracy  :', gridSearchES.score(X_test, y_test))\n"
      ],
      "execution_count": 166,
      "outputs": [
        {
          "output_type": "stream",
          "text": [
            "Fitting 5 folds for each of 8 candidates, totalling 40 fits\n"
          ],
          "name": "stdout"
        },
        {
          "output_type": "stream",
          "text": [
            "[Parallel(n_jobs=-1)]: Using backend LokyBackend with 2 concurrent workers.\n",
            "[Parallel(n_jobs=-1)]: Done  40 out of  40 | elapsed:   38.6s finished\n"
          ],
          "name": "stderr"
        },
        {
          "output_type": "stream",
          "text": [
            "Best parameters: {'learning_rate': 0.4, 'max_depth': 4, 'max_features': 3, 'min_samples_leaf': 3, 'min_samples_split': 150, 'n_estimators': 100, 'subsample': 1}\n",
            "\n",
            "Training roc_auc: 0.871699389017814\n",
            "Test roc_auc    : 0.8629026222308742\n"
          ],
          "name": "stdout"
        }
      ]
    },
    {
      "cell_type": "code",
      "metadata": {
        "colab": {
          "base_uri": "https://localhost:8080/"
        },
        "id": "TxjTrGw6eL3A",
        "outputId": "c2e8ae9e-2018-4164-c19e-adb93947219a"
      },
      "source": [
        "print('\\nTraining roc_auc:', gridSearchES.score(X_train, y_train))\n",
        "print('Test roc_auc    :', gridSearchES.score(X_test, y_test))"
      ],
      "execution_count": 168,
      "outputs": [
        {
          "output_type": "stream",
          "text": [
            "\n",
            "Training roc_auc: 0.8632432063328421\n",
            "Test roc_auc    : 0.8591420389697324\n"
          ],
          "name": "stdout"
        }
      ]
    },
    {
      "cell_type": "markdown",
      "metadata": {
        "id": "p4B6kZ5xfUJr"
      },
      "source": [
        "# Voting Classifer"
      ]
    },
    {
      "cell_type": "code",
      "metadata": {
        "colab": {
          "base_uri": "https://localhost:8080/"
        },
        "id": "ai_P-aENUZ5x",
        "outputId": "8a239d65-a5a4-43e9-b5c3-6a239ee197ae"
      },
      "source": [
        "from sklearn.naive_bayes import GaussianNB\n",
        "from sklearn.ensemble import VotingClassifier, StackingClassifier\n",
        "from sklearn.model_selection import cross_val_score\n",
        "\n",
        "clf1 = make_pipeline(StandardScaler(),LogisticRegression(C=0.4,multi_class='auto',penalty='l2', solver='newton-cg', random_state=seed))\n",
        "clf2 = RandomForestClassifier(n_estimators=100, random_state=42)\n",
        "clf3 = XGBClassifier(learning_rate=0.4,n_estimators=150,max_depth=4,min_child_weight=0,subsample=1,colsample_bytree=0.75,gamma=3,reg_alpha=5,reg_lambda=1,objective='binary:logistic', seed=seed)\n",
        "clf4 = GaussianNB()\n",
        "\n",
        "eclf = VotingClassifier(estimators=[('lr', clf1), ('rf', clf2), ('xgb', clf3),('gb', clf4)],\n",
        "                        weights=[1, 1, 1,1],\n",
        "                        voting='soft')\n",
        "\n",
        "clf1 = clf1.fit(X_train, y_train)\n",
        "clf2 = clf2.fit(X_train, y_train)\n",
        "clf3 = clf3.fit(X_train, y_train)\n",
        "clf4 = clf4.fit(X_train, y_train)\n",
        "eclf = eclf.fit(X_train, y_train)\n",
        "\n",
        "print('5-fold Cross Validation Accuracy:')\n",
        "for clf, label in zip([clf1, clf2, clf3,clf4, eclf], ['Logistic Regression', 'Random Forest','XGBOOST', 'Naive Bayes', 'Ensemble']):\n",
        "    scores = cross_val_score(clf, X_train, y_train, scoring='roc_auc', cv=kfold,verbose=1)\n",
        "    print(\"roc_auc: %0.2f (+/- %0.2f) [%s]\" % (scores.mean(), scores.std(), label))"
      ],
      "execution_count": 147,
      "outputs": [
        {
          "output_type": "stream",
          "text": [
            "5-fold Cross Validation Accuracy:\n"
          ],
          "name": "stdout"
        },
        {
          "output_type": "stream",
          "text": [
            "[Parallel(n_jobs=1)]: Using backend SequentialBackend with 1 concurrent workers.\n",
            "[Parallel(n_jobs=1)]: Done   5 out of   5 | elapsed:    7.8s finished\n",
            "[Parallel(n_jobs=1)]: Using backend SequentialBackend with 1 concurrent workers.\n"
          ],
          "name": "stderr"
        },
        {
          "output_type": "stream",
          "text": [
            "roc_auc: 0.85 (+/- 0.00) [Logistic Regression]\n"
          ],
          "name": "stdout"
        },
        {
          "output_type": "stream",
          "text": [
            "[Parallel(n_jobs=1)]: Done   5 out of   5 | elapsed:  1.4min finished\n",
            "[Parallel(n_jobs=1)]: Using backend SequentialBackend with 1 concurrent workers.\n"
          ],
          "name": "stderr"
        },
        {
          "output_type": "stream",
          "text": [
            "roc_auc: 0.84 (+/- 0.00) [Random Forest]\n"
          ],
          "name": "stdout"
        },
        {
          "output_type": "stream",
          "text": [
            "[Parallel(n_jobs=1)]: Done   5 out of   5 | elapsed:  1.0min finished\n",
            "[Parallel(n_jobs=1)]: Using backend SequentialBackend with 1 concurrent workers.\n"
          ],
          "name": "stderr"
        },
        {
          "output_type": "stream",
          "text": [
            "roc_auc: 0.86 (+/- 0.00) [XGBOOST]\n"
          ],
          "name": "stdout"
        },
        {
          "output_type": "stream",
          "text": [
            "[Parallel(n_jobs=1)]: Done   5 out of   5 | elapsed:    0.5s finished\n",
            "[Parallel(n_jobs=1)]: Using backend SequentialBackend with 1 concurrent workers.\n"
          ],
          "name": "stderr"
        },
        {
          "output_type": "stream",
          "text": [
            "roc_auc: 0.83 (+/- 0.00) [Naive Bayes]\n",
            "roc_auc: 0.85 (+/- 0.00) [Ensemble]\n"
          ],
          "name": "stdout"
        },
        {
          "output_type": "stream",
          "text": [
            "[Parallel(n_jobs=1)]: Done   5 out of   5 | elapsed:  2.5min finished\n"
          ],
          "name": "stderr"
        }
      ]
    },
    {
      "cell_type": "markdown",
      "metadata": {
        "id": "oXYN5ajZDsFX"
      },
      "source": [
        "# **Prediction**"
      ]
    },
    {
      "cell_type": "code",
      "metadata": {
        "id": "w6ePnLGKDxCX"
      },
      "source": [
        "df_test = pd.read_excel('Arac_test.xlsx')"
      ],
      "execution_count": 169,
      "outputs": []
    },
    {
      "cell_type": "code",
      "metadata": {
        "colab": {
          "base_uri": "https://localhost:8080/",
          "height": 195
        },
        "id": "wu-t3Bo3HZOk",
        "outputId": "b8962693-0c94-4331-997f-36fd3c83d303"
      },
      "source": [
        "df_test.head()"
      ],
      "execution_count": 170,
      "outputs": [
        {
          "output_type": "execute_result",
          "data": {
            "text/html": [
              "<div>\n",
              "<style scoped>\n",
              "    .dataframe tbody tr th:only-of-type {\n",
              "        vertical-align: middle;\n",
              "    }\n",
              "\n",
              "    .dataframe tbody tr th {\n",
              "        vertical-align: top;\n",
              "    }\n",
              "\n",
              "    .dataframe thead th {\n",
              "        text-align: right;\n",
              "    }\n",
              "</style>\n",
              "<table border=\"1\" class=\"dataframe\">\n",
              "  <thead>\n",
              "    <tr style=\"text-align: right;\">\n",
              "      <th></th>\n",
              "      <th>Musteri_no</th>\n",
              "      <th>Cinsiyet</th>\n",
              "      <th>Yas</th>\n",
              "      <th>Ehliyet</th>\n",
              "      <th>Sehir</th>\n",
              "      <th>Gecmis_police</th>\n",
              "      <th>Arac_yasi</th>\n",
              "      <th>Hasar_durumu</th>\n",
              "      <th>Yillik_prim</th>\n",
              "      <th>Acenta_no</th>\n",
              "      <th>Sure</th>\n",
              "    </tr>\n",
              "  </thead>\n",
              "  <tbody>\n",
              "    <tr>\n",
              "      <th>0</th>\n",
              "      <td>173950</td>\n",
              "      <td>K</td>\n",
              "      <td>1995</td>\n",
              "      <td>Var</td>\n",
              "      <td>Kocaeli</td>\n",
              "      <td>Yok</td>\n",
              "      <td>&lt; 1 Yil</td>\n",
              "      <td>H</td>\n",
              "      <td>2975.56</td>\n",
              "      <td>177</td>\n",
              "      <td>94</td>\n",
              "    </tr>\n",
              "    <tr>\n",
              "      <th>1</th>\n",
              "      <td>151093</td>\n",
              "      <td>K</td>\n",
              "      <td>1997</td>\n",
              "      <td>Var</td>\n",
              "      <td>Mersin</td>\n",
              "      <td>Var</td>\n",
              "      <td>&lt; 1 Yil</td>\n",
              "      <td>H</td>\n",
              "      <td>2683.33</td>\n",
              "      <td>177</td>\n",
              "      <td>105</td>\n",
              "    </tr>\n",
              "    <tr>\n",
              "      <th>2</th>\n",
              "      <td>278004</td>\n",
              "      <td>E</td>\n",
              "      <td>1978</td>\n",
              "      <td>Var</td>\n",
              "      <td>Samsun</td>\n",
              "      <td>Yok</td>\n",
              "      <td>1-2 Yil</td>\n",
              "      <td>E</td>\n",
              "      <td>3982.78</td>\n",
              "      <td>149</td>\n",
              "      <td>76</td>\n",
              "    </tr>\n",
              "    <tr>\n",
              "      <th>3</th>\n",
              "      <td>264381</td>\n",
              "      <td>K</td>\n",
              "      <td>1995</td>\n",
              "      <td>Var</td>\n",
              "      <td>Antalya</td>\n",
              "      <td>Yok</td>\n",
              "      <td>1-2 Yil</td>\n",
              "      <td>E</td>\n",
              "      <td>2716.67</td>\n",
              "      <td>179</td>\n",
              "      <td>193</td>\n",
              "    </tr>\n",
              "    <tr>\n",
              "      <th>4</th>\n",
              "      <td>336347</td>\n",
              "      <td>K</td>\n",
              "      <td>1999</td>\n",
              "      <td>Var</td>\n",
              "      <td>Bursa</td>\n",
              "      <td>Var</td>\n",
              "      <td>&lt; 1 Yil</td>\n",
              "      <td>H</td>\n",
              "      <td>3301.89</td>\n",
              "      <td>185</td>\n",
              "      <td>224</td>\n",
              "    </tr>\n",
              "  </tbody>\n",
              "</table>\n",
              "</div>"
            ],
            "text/plain": [
              "   Musteri_no Cinsiyet   Yas Ehliyet  ... Hasar_durumu Yillik_prim Acenta_no Sure\n",
              "0      173950        K  1995     Var  ...            H     2975.56       177   94\n",
              "1      151093        K  1997     Var  ...            H     2683.33       177  105\n",
              "2      278004        E  1978     Var  ...            E     3982.78       149   76\n",
              "3      264381        K  1995     Var  ...            E     2716.67       179  193\n",
              "4      336347        K  1999     Var  ...            H     3301.89       185  224\n",
              "\n",
              "[5 rows x 11 columns]"
            ]
          },
          "metadata": {
            "tags": []
          },
          "execution_count": 170
        }
      ]
    },
    {
      "cell_type": "code",
      "metadata": {
        "id": "9ibq3pYvHjGp"
      },
      "source": [
        "df_test['Yas2']= 2021-df_test[\"Yas\"]"
      ],
      "execution_count": 171,
      "outputs": []
    },
    {
      "cell_type": "code",
      "metadata": {
        "id": "lJL6xP_-HnFO"
      },
      "source": [
        "\n",
        "df_test.drop(['Yas'], inplace=True, axis=1)"
      ],
      "execution_count": 172,
      "outputs": []
    },
    {
      "cell_type": "code",
      "metadata": {
        "id": "t7zJFLyhHuIP"
      },
      "source": [
        "df_test['Cinsiyet']= df_test['Cinsiyet'].map({\"K\" : 1, \"E\" : 0})\n",
        "df_test['Ehliyet']= df_test['Ehliyet'].map({'Var' : 1, 'Yok' : 0})\n",
        "df_test['Gecmis_police']= df_test['Gecmis_police'].map({'Var' : 1, 'Yok' : 0})\n",
        "df_test['Hasar_durumu']= df_test['Hasar_durumu'].map({'E' : 1, 'H' : 0})"
      ],
      "execution_count": 173,
      "outputs": []
    },
    {
      "cell_type": "code",
      "metadata": {
        "id": "VBicQzBIHciR"
      },
      "source": [
        "cols_to_transform = ['Arac_yasi'] # make a list if more than one column\n",
        "df_test2 = pd.get_dummies(df_test, columns = cols_to_transform, drop_first=True)"
      ],
      "execution_count": 174,
      "outputs": []
    },
    {
      "cell_type": "code",
      "metadata": {
        "colab": {
          "base_uri": "https://localhost:8080/",
          "height": 195
        },
        "id": "rQaVaFxPH2QY",
        "outputId": "76b51906-6b95-4895-e2e4-965c0a532741"
      },
      "source": [
        "df_test2.head()"
      ],
      "execution_count": 175,
      "outputs": [
        {
          "output_type": "execute_result",
          "data": {
            "text/html": [
              "<div>\n",
              "<style scoped>\n",
              "    .dataframe tbody tr th:only-of-type {\n",
              "        vertical-align: middle;\n",
              "    }\n",
              "\n",
              "    .dataframe tbody tr th {\n",
              "        vertical-align: top;\n",
              "    }\n",
              "\n",
              "    .dataframe thead th {\n",
              "        text-align: right;\n",
              "    }\n",
              "</style>\n",
              "<table border=\"1\" class=\"dataframe\">\n",
              "  <thead>\n",
              "    <tr style=\"text-align: right;\">\n",
              "      <th></th>\n",
              "      <th>Musteri_no</th>\n",
              "      <th>Cinsiyet</th>\n",
              "      <th>Ehliyet</th>\n",
              "      <th>Sehir</th>\n",
              "      <th>Gecmis_police</th>\n",
              "      <th>Hasar_durumu</th>\n",
              "      <th>Yillik_prim</th>\n",
              "      <th>Acenta_no</th>\n",
              "      <th>Sure</th>\n",
              "      <th>Yas2</th>\n",
              "      <th>Arac_yasi_2-5 Yil</th>\n",
              "      <th>Arac_yasi_5-10 Yil</th>\n",
              "      <th>Arac_yasi_&lt; 1 Yil</th>\n",
              "      <th>Arac_yasi_&gt; 10 Yil</th>\n",
              "    </tr>\n",
              "  </thead>\n",
              "  <tbody>\n",
              "    <tr>\n",
              "      <th>0</th>\n",
              "      <td>173950</td>\n",
              "      <td>1</td>\n",
              "      <td>1</td>\n",
              "      <td>Kocaeli</td>\n",
              "      <td>0</td>\n",
              "      <td>0</td>\n",
              "      <td>2975.56</td>\n",
              "      <td>177</td>\n",
              "      <td>94</td>\n",
              "      <td>26</td>\n",
              "      <td>0</td>\n",
              "      <td>0</td>\n",
              "      <td>1</td>\n",
              "      <td>0</td>\n",
              "    </tr>\n",
              "    <tr>\n",
              "      <th>1</th>\n",
              "      <td>151093</td>\n",
              "      <td>1</td>\n",
              "      <td>1</td>\n",
              "      <td>Mersin</td>\n",
              "      <td>1</td>\n",
              "      <td>0</td>\n",
              "      <td>2683.33</td>\n",
              "      <td>177</td>\n",
              "      <td>105</td>\n",
              "      <td>24</td>\n",
              "      <td>0</td>\n",
              "      <td>0</td>\n",
              "      <td>1</td>\n",
              "      <td>0</td>\n",
              "    </tr>\n",
              "    <tr>\n",
              "      <th>2</th>\n",
              "      <td>278004</td>\n",
              "      <td>0</td>\n",
              "      <td>1</td>\n",
              "      <td>Samsun</td>\n",
              "      <td>0</td>\n",
              "      <td>1</td>\n",
              "      <td>3982.78</td>\n",
              "      <td>149</td>\n",
              "      <td>76</td>\n",
              "      <td>43</td>\n",
              "      <td>0</td>\n",
              "      <td>0</td>\n",
              "      <td>0</td>\n",
              "      <td>0</td>\n",
              "    </tr>\n",
              "    <tr>\n",
              "      <th>3</th>\n",
              "      <td>264381</td>\n",
              "      <td>1</td>\n",
              "      <td>1</td>\n",
              "      <td>Antalya</td>\n",
              "      <td>0</td>\n",
              "      <td>1</td>\n",
              "      <td>2716.67</td>\n",
              "      <td>179</td>\n",
              "      <td>193</td>\n",
              "      <td>26</td>\n",
              "      <td>0</td>\n",
              "      <td>0</td>\n",
              "      <td>0</td>\n",
              "      <td>0</td>\n",
              "    </tr>\n",
              "    <tr>\n",
              "      <th>4</th>\n",
              "      <td>336347</td>\n",
              "      <td>1</td>\n",
              "      <td>1</td>\n",
              "      <td>Bursa</td>\n",
              "      <td>1</td>\n",
              "      <td>0</td>\n",
              "      <td>3301.89</td>\n",
              "      <td>185</td>\n",
              "      <td>224</td>\n",
              "      <td>22</td>\n",
              "      <td>0</td>\n",
              "      <td>0</td>\n",
              "      <td>1</td>\n",
              "      <td>0</td>\n",
              "    </tr>\n",
              "  </tbody>\n",
              "</table>\n",
              "</div>"
            ],
            "text/plain": [
              "   Musteri_no  Cinsiyet  ...  Arac_yasi_< 1 Yil Arac_yasi_> 10 Yil\n",
              "0      173950         1  ...                  1                  0\n",
              "1      151093         1  ...                  1                  0\n",
              "2      278004         0  ...                  0                  0\n",
              "3      264381         1  ...                  0                  0\n",
              "4      336347         1  ...                  1                  0\n",
              "\n",
              "[5 rows x 14 columns]"
            ]
          },
          "metadata": {
            "tags": []
          },
          "execution_count": 175
        }
      ]
    },
    {
      "cell_type": "code",
      "metadata": {
        "id": "OekSghLuH4Mw"
      },
      "source": [
        "df_test2['Sehir']= df_test2['Sehir'].map({\"Istanbul\" :\"Istanbul\" ,\"Ankara\" :\"Ankara\",\"Izmir\" :\"Izmir\" ,\"Bursa\" :\"Bursa\" ,\"Kocaeli\":\"Kocaeli\" ,\"Antalya\" :\"Diger\" ,\n",
        "                                            \"Adana\":\"Diger\" ,\"Gaziantep\":\"Diger\",\"Konya\":\"Diger\",\"Mersin\":\"Diger\",\"Urfa\":\"Diger\",\"Kayseri\":\"Diger\",\"Diyarbakir\":\"Diger\",\n",
        "                                            \"Manisa\":\"Diger\",\"Hatay\":\"Diger\",\"Samsun\":\"Diger\",\"Balikesir\":\"Diger\",\"Maras\":\"Diger\",\"Aydin\":\"Diger\",\"Denizli\":\"Diger\",\n",
        "                                            \"Sakarya\":\"Diger\",\"Eskisehir\":\"Diger\",\"Mugla\":\"Diger\",\"Tekirdag\":\"Diger\",\"Malatya\":\"Diger\",\"Trabzon\":\"Diger\",\"Adiyaman\":\"Diger\",\n",
        "                                            \"Erzurum\":\"Diger\",\"Tokat\":\"Diger\",\"Sivas\":\"Diger\",\"Ordu\":\"Diger\",\"Mardin\":\"Diger\",\"Afyon\":\"Diger\",\"Zonguldak\":\"Diger\",\n",
        "                                            \"Kutahya\":\"Diger\",\"Canakkale\":\"Diger\",\"Batman\":\"Diger\",\"Osmaniye\":\"Diger\",\"Sirnak\":\"Diger\",\"Giresun\":\"Diger\",\"Isparta\":\"Diger\",\n",
        "                                            \"Yozgat\":\"Diger\",\"Aksaray\":\"Diger\",\"Edirne\":\"Diger\",\"Duzce\":\"Diger\",\"Kastamonu\":\"Diger\",\"Usak\":\"Diger\",\"Van\":\"Diger\",\"Nigde\":\"Diger\",\n",
        "                                            \"Elazig\":\"Diger\",\"Agri\":\"Diger\",\"Corum\":\"Diger\",\"Mus\":\"Diger\"})"
      ],
      "execution_count": 176,
      "outputs": []
    },
    {
      "cell_type": "code",
      "metadata": {
        "id": "c5Hv1PasH-gh"
      },
      "source": [
        "cols_to_transform = ['Sehir'] # make a list if more than one column\n",
        "df_test3 = pd.get_dummies(df_test2, columns = cols_to_transform, drop_first=True)\n",
        "df_test3.drop(['Musteri_no'], inplace=True, axis=1)"
      ],
      "execution_count": 177,
      "outputs": []
    },
    {
      "cell_type": "code",
      "metadata": {
        "id": "IwiQOi80INrY"
      },
      "source": [
        "df_test3.rename(columns={'Arac_yasi_< 1 Yil':'Arac_yasi_1','Arac_yasi_2-5 Yil':'Arac_yasi_2' , 'Arac_yasi_5-10 Yil':'Arac_yasi_3','Arac_yasi_> 10 Yil':'Arac_yasi_4'}, inplace=True)"
      ],
      "execution_count": 178,
      "outputs": []
    },
    {
      "cell_type": "code",
      "metadata": {
        "colab": {
          "base_uri": "https://localhost:8080/",
          "height": 215
        },
        "id": "G7rBuQleIHh3",
        "outputId": "52e224bc-7093-419d-e265-74877a296646"
      },
      "source": [
        "df_test3.head()"
      ],
      "execution_count": 179,
      "outputs": [
        {
          "output_type": "execute_result",
          "data": {
            "text/html": [
              "<div>\n",
              "<style scoped>\n",
              "    .dataframe tbody tr th:only-of-type {\n",
              "        vertical-align: middle;\n",
              "    }\n",
              "\n",
              "    .dataframe tbody tr th {\n",
              "        vertical-align: top;\n",
              "    }\n",
              "\n",
              "    .dataframe thead th {\n",
              "        text-align: right;\n",
              "    }\n",
              "</style>\n",
              "<table border=\"1\" class=\"dataframe\">\n",
              "  <thead>\n",
              "    <tr style=\"text-align: right;\">\n",
              "      <th></th>\n",
              "      <th>Cinsiyet</th>\n",
              "      <th>Ehliyet</th>\n",
              "      <th>Gecmis_police</th>\n",
              "      <th>Hasar_durumu</th>\n",
              "      <th>Yillik_prim</th>\n",
              "      <th>Acenta_no</th>\n",
              "      <th>Sure</th>\n",
              "      <th>Yas2</th>\n",
              "      <th>Arac_yasi_2</th>\n",
              "      <th>Arac_yasi_3</th>\n",
              "      <th>Arac_yasi_1</th>\n",
              "      <th>Arac_yasi_4</th>\n",
              "      <th>Sehir_Bursa</th>\n",
              "      <th>Sehir_Diger</th>\n",
              "      <th>Sehir_Istanbul</th>\n",
              "      <th>Sehir_Izmir</th>\n",
              "      <th>Sehir_Kocaeli</th>\n",
              "    </tr>\n",
              "  </thead>\n",
              "  <tbody>\n",
              "    <tr>\n",
              "      <th>0</th>\n",
              "      <td>1</td>\n",
              "      <td>1</td>\n",
              "      <td>0</td>\n",
              "      <td>0</td>\n",
              "      <td>2975.56</td>\n",
              "      <td>177</td>\n",
              "      <td>94</td>\n",
              "      <td>26</td>\n",
              "      <td>0</td>\n",
              "      <td>0</td>\n",
              "      <td>1</td>\n",
              "      <td>0</td>\n",
              "      <td>0</td>\n",
              "      <td>0</td>\n",
              "      <td>0</td>\n",
              "      <td>0</td>\n",
              "      <td>1</td>\n",
              "    </tr>\n",
              "    <tr>\n",
              "      <th>1</th>\n",
              "      <td>1</td>\n",
              "      <td>1</td>\n",
              "      <td>1</td>\n",
              "      <td>0</td>\n",
              "      <td>2683.33</td>\n",
              "      <td>177</td>\n",
              "      <td>105</td>\n",
              "      <td>24</td>\n",
              "      <td>0</td>\n",
              "      <td>0</td>\n",
              "      <td>1</td>\n",
              "      <td>0</td>\n",
              "      <td>0</td>\n",
              "      <td>1</td>\n",
              "      <td>0</td>\n",
              "      <td>0</td>\n",
              "      <td>0</td>\n",
              "    </tr>\n",
              "    <tr>\n",
              "      <th>2</th>\n",
              "      <td>0</td>\n",
              "      <td>1</td>\n",
              "      <td>0</td>\n",
              "      <td>1</td>\n",
              "      <td>3982.78</td>\n",
              "      <td>149</td>\n",
              "      <td>76</td>\n",
              "      <td>43</td>\n",
              "      <td>0</td>\n",
              "      <td>0</td>\n",
              "      <td>0</td>\n",
              "      <td>0</td>\n",
              "      <td>0</td>\n",
              "      <td>1</td>\n",
              "      <td>0</td>\n",
              "      <td>0</td>\n",
              "      <td>0</td>\n",
              "    </tr>\n",
              "    <tr>\n",
              "      <th>3</th>\n",
              "      <td>1</td>\n",
              "      <td>1</td>\n",
              "      <td>0</td>\n",
              "      <td>1</td>\n",
              "      <td>2716.67</td>\n",
              "      <td>179</td>\n",
              "      <td>193</td>\n",
              "      <td>26</td>\n",
              "      <td>0</td>\n",
              "      <td>0</td>\n",
              "      <td>0</td>\n",
              "      <td>0</td>\n",
              "      <td>0</td>\n",
              "      <td>1</td>\n",
              "      <td>0</td>\n",
              "      <td>0</td>\n",
              "      <td>0</td>\n",
              "    </tr>\n",
              "    <tr>\n",
              "      <th>4</th>\n",
              "      <td>1</td>\n",
              "      <td>1</td>\n",
              "      <td>1</td>\n",
              "      <td>0</td>\n",
              "      <td>3301.89</td>\n",
              "      <td>185</td>\n",
              "      <td>224</td>\n",
              "      <td>22</td>\n",
              "      <td>0</td>\n",
              "      <td>0</td>\n",
              "      <td>1</td>\n",
              "      <td>0</td>\n",
              "      <td>1</td>\n",
              "      <td>0</td>\n",
              "      <td>0</td>\n",
              "      <td>0</td>\n",
              "      <td>0</td>\n",
              "    </tr>\n",
              "  </tbody>\n",
              "</table>\n",
              "</div>"
            ],
            "text/plain": [
              "   Cinsiyet  Ehliyet  Gecmis_police  ...  Sehir_Istanbul  Sehir_Izmir  Sehir_Kocaeli\n",
              "0         1        1              0  ...               0            0              1\n",
              "1         1        1              1  ...               0            0              0\n",
              "2         0        1              0  ...               0            0              0\n",
              "3         1        1              0  ...               0            0              0\n",
              "4         1        1              1  ...               0            0              0\n",
              "\n",
              "[5 rows x 17 columns]"
            ]
          },
          "metadata": {
            "tags": []
          },
          "execution_count": 179
        }
      ]
    },
    {
      "cell_type": "code",
      "metadata": {
        "colab": {
          "base_uri": "https://localhost:8080/"
        },
        "id": "mngo3ogOIIuY",
        "outputId": "88b4e1f0-9d9e-42a2-dc7f-15c4387480f9"
      },
      "source": [
        "df_test3.info()"
      ],
      "execution_count": 180,
      "outputs": [
        {
          "output_type": "stream",
          "text": [
            "<class 'pandas.core.frame.DataFrame'>\n",
            "RangeIndex: 63672 entries, 0 to 63671\n",
            "Data columns (total 17 columns):\n",
            " #   Column          Non-Null Count  Dtype  \n",
            "---  ------          --------------  -----  \n",
            " 0   Cinsiyet        63672 non-null  int64  \n",
            " 1   Ehliyet         63672 non-null  int64  \n",
            " 2   Gecmis_police   63672 non-null  int64  \n",
            " 3   Hasar_durumu    63672 non-null  int64  \n",
            " 4   Yillik_prim     63672 non-null  float64\n",
            " 5   Acenta_no       63672 non-null  int64  \n",
            " 6   Sure            63672 non-null  int64  \n",
            " 7   Yas2            63672 non-null  int64  \n",
            " 8   Arac_yasi_2     63672 non-null  uint8  \n",
            " 9   Arac_yasi_3     63672 non-null  uint8  \n",
            " 10  Arac_yasi_1     63672 non-null  uint8  \n",
            " 11  Arac_yasi_4     63672 non-null  uint8  \n",
            " 12  Sehir_Bursa     63672 non-null  uint8  \n",
            " 13  Sehir_Diger     63672 non-null  uint8  \n",
            " 14  Sehir_Istanbul  63672 non-null  uint8  \n",
            " 15  Sehir_Izmir     63672 non-null  uint8  \n",
            " 16  Sehir_Kocaeli   63672 non-null  uint8  \n",
            "dtypes: float64(1), int64(7), uint8(9)\n",
            "memory usage: 4.4 MB\n"
          ],
          "name": "stdout"
        }
      ]
    },
    {
      "cell_type": "code",
      "metadata": {
        "id": "w09VtC9JISgv"
      },
      "source": [
        "df_test3[\"Arac_yasi_2\"] = df_test3[\"Arac_yasi_2\"].astype('int')"
      ],
      "execution_count": 181,
      "outputs": []
    },
    {
      "cell_type": "code",
      "metadata": {
        "id": "Tp9ysAtgIe6n"
      },
      "source": [
        "df_test3[\"Arac_yasi_3\"] = df_test3[\"Arac_yasi_3\"].astype('int')\n",
        "df_test3[\"Arac_yasi_1\"] = df_test3[\"Arac_yasi_1\"].astype('int')\n",
        "df_test3[\"Arac_yasi_4\"] = df_test3[\"Arac_yasi_4\"].astype('int')\n",
        "df_test3[\"Sehir_Bursa\"] = df_test3[\"Sehir_Bursa\"].astype('int')\n",
        "df_test3[\"Sehir_Diger\"] = df_test3[\"Sehir_Diger\"].astype('int')\n",
        "df_test3[\"Sehir_Istanbul\"] = df_test3[\"Sehir_Istanbul\"].astype('int')\n",
        "df_test3[\"Sehir_Izmir\"] = df_test3[\"Sehir_Izmir\"].astype('int')\n",
        "df_test3[\"Sehir_Kocaeli\"] = df_test3[\"Sehir_Kocaeli\"].astype('int')"
      ],
      "execution_count": 182,
      "outputs": []
    },
    {
      "cell_type": "code",
      "metadata": {
        "id": "rSZQIvZzI0Bu"
      },
      "source": [
        "test_pred=grid_search.predict(df_test3)"
      ],
      "execution_count": null,
      "outputs": []
    },
    {
      "cell_type": "code",
      "metadata": {
        "id": "H09rdmWHJHTm"
      },
      "source": [
        "submission = pd.DataFrame({\"ID\": np.arange(1,63673).tolist(), \"Prediction\":test_pred})\n",
        "submission.to_csv(\"submission_2.csv\", index = None)"
      ],
      "execution_count": 126,
      "outputs": []
    },
    {
      "cell_type": "code",
      "metadata": {
        "colab": {
          "base_uri": "https://localhost:8080/",
          "height": 17
        },
        "id": "o_Lp_rhJMxXK",
        "outputId": "38861ab8-96eb-44a4-9b16-1ae763045e16"
      },
      "source": [
        "files.download('submission_2.csv')\n"
      ],
      "execution_count": 128,
      "outputs": [
        {
          "output_type": "display_data",
          "data": {
            "application/javascript": [
              "\n",
              "    async function download(id, filename, size) {\n",
              "      if (!google.colab.kernel.accessAllowed) {\n",
              "        return;\n",
              "      }\n",
              "      const div = document.createElement('div');\n",
              "      const label = document.createElement('label');\n",
              "      label.textContent = `Downloading \"${filename}\": `;\n",
              "      div.appendChild(label);\n",
              "      const progress = document.createElement('progress');\n",
              "      progress.max = size;\n",
              "      div.appendChild(progress);\n",
              "      document.body.appendChild(div);\n",
              "\n",
              "      const buffers = [];\n",
              "      let downloaded = 0;\n",
              "\n",
              "      const channel = await google.colab.kernel.comms.open(id);\n",
              "      // Send a message to notify the kernel that we're ready.\n",
              "      channel.send({})\n",
              "\n",
              "      for await (const message of channel.messages) {\n",
              "        // Send a message to notify the kernel that we're ready.\n",
              "        channel.send({})\n",
              "        if (message.buffers) {\n",
              "          for (const buffer of message.buffers) {\n",
              "            buffers.push(buffer);\n",
              "            downloaded += buffer.byteLength;\n",
              "            progress.value = downloaded;\n",
              "          }\n",
              "        }\n",
              "      }\n",
              "      const blob = new Blob(buffers, {type: 'application/binary'});\n",
              "      const a = document.createElement('a');\n",
              "      a.href = window.URL.createObjectURL(blob);\n",
              "      a.download = filename;\n",
              "      div.appendChild(a);\n",
              "      a.click();\n",
              "      div.remove();\n",
              "    }\n",
              "  "
            ],
            "text/plain": [
              "<IPython.core.display.Javascript object>"
            ]
          },
          "metadata": {
            "tags": []
          }
        },
        {
          "output_type": "display_data",
          "data": {
            "application/javascript": [
              "download(\"download_374483ad-6edf-43ff-8ec1-dca48483a458\", \"submission_2.csv\", 498284)"
            ],
            "text/plain": [
              "<IPython.core.display.Javascript object>"
            ]
          },
          "metadata": {
            "tags": []
          }
        }
      ]
    },
    {
      "cell_type": "code",
      "metadata": {
        "id": "ol5C6HAqNU9g"
      },
      "source": [
        ""
      ],
      "execution_count": null,
      "outputs": []
    }
  ]
}